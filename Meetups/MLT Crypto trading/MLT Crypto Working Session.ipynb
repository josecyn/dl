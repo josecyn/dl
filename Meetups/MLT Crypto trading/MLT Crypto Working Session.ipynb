{
 "cells": [
  {
   "cell_type": "markdown",
   "metadata": {
    "colab_type": "text",
    "id": "Sb8gQmtzk1-L"
   },
   "source": [
    "# MLT Crypto Working Session\n",
    "\n",
    "This notebook does not follow a specific order. It simply shows some of the work we did in the afternoon during the meetup.\n",
    "\n",
    "Big thanks to the organizers!"
   ]
  },
  {
   "cell_type": "markdown",
   "metadata": {},
   "source": [
    "# Our team's idea\n",
    "\n",
    "The team's idea was inspired by the following slide we saw during the introduction. Credit: Ashley Smart from Bloomberg.\n",
    "\n",
    "![Tredn/event price prediction model](img/4.png)\n",
    "\n",
    "We wanted to create a model that captures the trend and then, using the twitter's sentiment, predict more accurate future values based on the assumption that there is a correlation between Twitter's sentiment and the trading of Cryptocurrencies. \n",
    "\n",
    "We just had time to get the tweets, find out the sentiment for the past week and get the bitcoin price for every minute for the past week.\n",
    "\n",
    "Work to do: create the models!"
   ]
  },
  {
   "cell_type": "markdown",
   "metadata": {
    "colab_type": "text",
    "id": "yXeGMTp3E3j5"
   },
   "source": [
    "# Download CSV file with tweets into Colab from Google Drive\n",
    "\n",
    "This section shows how to download a file in colab from your google drive once the file is public and you have its 'share id'.\n",
    "\n",
    "This file was created by another member of the group and contains 20 tweets for each day of the past 7 days. Note that the twitter API just serves tweets for the past 7 days."
   ]
  },
  {
   "cell_type": "code",
   "execution_count": 0,
   "metadata": {
    "colab": {},
    "colab_type": "code",
    "collapsed": true,
    "id": "euO8Otvi_TN-"
   },
   "outputs": [],
   "source": [
    "import requests\n",
    "\n",
    "def download_file_from_google_drive(id, destination):\n",
    "    def get_confirm_token(response):\n",
    "        for key, value in response.cookies.items():\n",
    "            if key.startswith('download_warning'):\n",
    "                return value\n",
    "\n",
    "        return None\n",
    "\n",
    "    def save_response_content(response, destination):\n",
    "        CHUNK_SIZE = 32768\n",
    "\n",
    "        with open(destination, \"wb\") as f:\n",
    "            for chunk in response.iter_content(CHUNK_SIZE):\n",
    "                if chunk: # filter out keep-alive new chunks\n",
    "                    f.write(chunk)\n",
    "\n",
    "    URL = \"https://docs.google.com/uc?export=download\"\n",
    "\n",
    "    session = requests.Session()\n",
    "\n",
    "    response = session.get(URL, params = { 'id' : id }, stream = True)\n",
    "    token = get_confirm_token(response)\n",
    "\n",
    "    if token:\n",
    "        params = { 'id' : id, 'confirm' : token }\n",
    "        response = session.get(URL, params = params, stream = True)\n",
    "\n",
    "    save_response_content(response, destination)"
   ]
  },
  {
   "cell_type": "code",
   "execution_count": 0,
   "metadata": {
    "colab": {},
    "colab_type": "code",
    "collapsed": true,
    "id": "5sLO8QPby4ow"
   },
   "outputs": [],
   "source": [
    "# share URL -> https://drive.google.com/open?id=XXXXXXXXXXXXXXXXXXXXXX\n",
    "# TAKE ID FROM SHAREABLE LINK\n",
    "file_tweets = 'XXXXXXXXXXXXXXXXXXXXXX'\n",
    "# DESTINATION FILE ON YOUR DISK\n",
    "destination = './twitter.csv'\n",
    "\n",
    "# Usage: python google_drive.py drive_file_id destination_file_path\n",
    "download_file_from_google_drive(file_tweets, destination)"
   ]
  },
  {
   "cell_type": "code",
   "execution_count": 27,
   "metadata": {
    "colab": {
     "base_uri": "https://localhost:8080/",
     "height": 153
    },
    "colab_type": "code",
    "id": "HuAoV6gr_bDh",
    "outputId": "03743ea4-e31e-455e-f05c-a3d7d862ff17"
   },
   "outputs": [
    {
     "name": "stdout",
     "output_type": "stream",
     "text": [
      "total 48\r\n",
      "drwxr-xr-x 1 root root  4096 Sep  2 02:27 .\r\n",
      "drwxr-xr-x 1 root root  4096 Sep  2 01:25 ..\r\n",
      "drwxr-xr-x 4 root root  4096 Aug 30 21:29 .config\r\n",
      "-rw-r--r-- 1 root root  2325 Sep  2 02:27 gcp.json\r\n",
      "drwxr-xr-x 2 root root  4096 Aug 30 21:39 sample_data\r\n",
      "-rw-r--r-- 1 root root   254 Sep  2 02:20 twitter_credentials.json\r\n",
      "-rw-r--r-- 1 root root 22286 Sep  2 04:42 twitter.csv\r\n"
     ]
    }
   ],
   "source": [
    "!ls -la"
   ]
  },
  {
   "cell_type": "code",
   "execution_count": 28,
   "metadata": {
    "colab": {
     "base_uri": "https://localhost:8080/",
     "height": 227
    },
    "colab_type": "code",
    "id": "SVqT-FHSzsyt",
    "outputId": "b3f474cc-9505-4acc-eb0d-bc6ed3486de4"
   },
   "outputs": [
    {
     "name": "stdout",
     "output_type": "stream",
     "text": [
      "Fri Aug 31 23:59:57 +0000 2018,Haha @Eminem dropped that new album and name dropped $btc in it. Legit #bitcoin #notalike\r\n",
      "Fri Aug 31 23:59:51 +0000 2018,\"RT @coingecko: Have you tried comparing coins side by side?\r\n",
      "Which coin would you compare?\r\n",
      "https://t.co/YaqydA8HMh\r\n",
      ".\r\n",
      "#cryptocurrency #coins…\"\r\n",
      "Fri Aug 31 23:59:47 +0000 2018,RT @cryptocomicon: Chris DeRose spends an 86 minutes explaining why he likes #Monero in a world dominated by bitcoin maximalist ideologues.…\r\n",
      "Fri Aug 31 23:59:45 +0000 2018,RT @BitcoinDood: DNA: The Safest Way to Store your Bitcoin Fortune https://t.co/VxyAjj9Dy2\r\n",
      "Fri Aug 31 23:59:42 +0000 2018,\"RT @CharlieShrem: As bitcoin grows, more and more people will “claim” to be Satoshi and amass cult like following. Even if Satoshi “returne…\"\r\n",
      "Fri Aug 31 23:59:38 +0000 2018,\"Recover your loss by copy this guy. Deposit Bitcoin\r\n"
     ]
    }
   ],
   "source": [
    "!head twitter.csv"
   ]
  },
  {
   "cell_type": "code",
   "execution_count": 32,
   "metadata": {
    "colab": {
     "base_uri": "https://localhost:8080/",
     "height": 204
    },
    "colab_type": "code",
    "id": "HyGfKcHtVigf",
    "outputId": "cdf60559-241f-4c32-f1d5-d5a974845517"
   },
   "outputs": [
    {
     "data": {
      "text/html": [
       "<div>\n",
       "<style scoped>\n",
       "    .dataframe tbody tr th:only-of-type {\n",
       "        vertical-align: middle;\n",
       "    }\n",
       "\n",
       "    .dataframe tbody tr th {\n",
       "        vertical-align: top;\n",
       "    }\n",
       "\n",
       "    .dataframe thead th {\n",
       "        text-align: right;\n",
       "    }\n",
       "</style>\n",
       "<table border=\"1\" class=\"dataframe\">\n",
       "  <thead>\n",
       "    <tr style=\"text-align: right;\">\n",
       "      <th></th>\n",
       "      <th>0</th>\n",
       "      <th>1</th>\n",
       "    </tr>\n",
       "  </thead>\n",
       "  <tbody>\n",
       "    <tr>\n",
       "      <th>0</th>\n",
       "      <td>Fri Aug 31 23:59:57 +0000 2018</td>\n",
       "      <td>Haha @Eminem dropped that new album and name d...</td>\n",
       "    </tr>\n",
       "    <tr>\n",
       "      <th>1</th>\n",
       "      <td>Fri Aug 31 23:59:51 +0000 2018</td>\n",
       "      <td>RT @coingecko: Have you tried comparing coins ...</td>\n",
       "    </tr>\n",
       "    <tr>\n",
       "      <th>2</th>\n",
       "      <td>Fri Aug 31 23:59:47 +0000 2018</td>\n",
       "      <td>RT @cryptocomicon: Chris DeRose spends an 86 m...</td>\n",
       "    </tr>\n",
       "    <tr>\n",
       "      <th>3</th>\n",
       "      <td>Fri Aug 31 23:59:45 +0000 2018</td>\n",
       "      <td>RT @BitcoinDood: DNA: The Safest Way to Store ...</td>\n",
       "    </tr>\n",
       "    <tr>\n",
       "      <th>4</th>\n",
       "      <td>Fri Aug 31 23:59:42 +0000 2018</td>\n",
       "      <td>RT @CharlieShrem: As bitcoin grows, more and m...</td>\n",
       "    </tr>\n",
       "  </tbody>\n",
       "</table>\n",
       "</div>"
      ],
      "text/plain": [
       "                                0  \\\n",
       "0  Fri Aug 31 23:59:57 +0000 2018   \n",
       "1  Fri Aug 31 23:59:51 +0000 2018   \n",
       "2  Fri Aug 31 23:59:47 +0000 2018   \n",
       "3  Fri Aug 31 23:59:45 +0000 2018   \n",
       "4  Fri Aug 31 23:59:42 +0000 2018   \n",
       "\n",
       "                                                   1  \n",
       "0  Haha @Eminem dropped that new album and name d...  \n",
       "1  RT @coingecko: Have you tried comparing coins ...  \n",
       "2  RT @cryptocomicon: Chris DeRose spends an 86 m...  \n",
       "3  RT @BitcoinDood: DNA: The Safest Way to Store ...  \n",
       "4  RT @CharlieShrem: As bitcoin grows, more and m...  "
      ]
     },
     "execution_count": 32,
     "metadata": {
      "tags": []
     },
     "output_type": "execute_result"
    }
   ],
   "source": [
    "# the file is a two-column csv: date, tweet\n",
    "\n",
    "import pandas as pd\n",
    "\n",
    "tweets = pd.read_csv (\"./twitter.csv\", header=None)\n",
    "\n",
    "tweets.head()"
   ]
  },
  {
   "cell_type": "code",
   "execution_count": 31,
   "metadata": {
    "colab": {
     "base_uri": "https://localhost:8080/",
     "height": 34
    },
    "colab_type": "code",
    "id": "hTPx3sRJmOWg",
    "outputId": "6a74278c-1a16-4f8c-e08e-0a4c04f03f9e"
   },
   "outputs": [
    {
     "name": "stdout",
     "output_type": "stream",
     "text": [
      "(140, 2)\n"
     ]
    }
   ],
   "source": [
    "print (tweets.shape)"
   ]
  },
  {
   "cell_type": "markdown",
   "metadata": {
    "colab_type": "text",
    "id": "-Z1hwtgFExmo"
   },
   "source": [
    "# Get tweets using Twython\n",
    "\n",
    "In this section we show how to get tweets using the Twython lib."
   ]
  },
  {
   "cell_type": "code",
   "execution_count": 33,
   "metadata": {
    "colab": {
     "base_uri": "https://localhost:8080/",
     "height": 193
    },
    "colab_type": "code",
    "id": "kIw1kYoAlNhA",
    "outputId": "5ed98a0e-8c7a-4402-c542-3d5211a73920"
   },
   "outputs": [
    {
     "name": "stdout",
     "output_type": "stream",
     "text": [
      "Requirement already satisfied: Twython in /usr/local/lib/python2.7/dist-packages (3.7.0)\r\n",
      "Requirement already satisfied: requests>=2.1.0 in /usr/local/lib/python2.7/dist-packages (from Twython) (2.18.4)\r\n",
      "Requirement already satisfied: requests-oauthlib>=0.4.0 in /usr/local/lib/python2.7/dist-packages (from Twython) (1.0.0)\r\n",
      "Requirement already satisfied: idna<2.7,>=2.5 in /usr/local/lib/python2.7/dist-packages (from requests>=2.1.0->Twython) (2.6)\r\n",
      "Requirement already satisfied: urllib3<1.23,>=1.21.1 in /usr/local/lib/python2.7/dist-packages (from requests>=2.1.0->Twython) (1.22)\r\n",
      "Requirement already satisfied: certifi>=2017.4.17 in /usr/local/lib/python2.7/dist-packages (from requests>=2.1.0->Twython) (2018.8.24)\r\n",
      "Requirement already satisfied: chardet<3.1.0,>=3.0.2 in /usr/local/lib/python2.7/dist-packages (from requests>=2.1.0->Twython) (3.0.4)\r\n",
      "Requirement already satisfied: oauthlib>=0.6.2 in /usr/local/lib/python2.7/dist-packages (from requests-oauthlib>=0.4.0->Twython) (2.1.0)\r\n"
     ]
    }
   ],
   "source": [
    "!pip install Twython"
   ]
  },
  {
   "cell_type": "code",
   "execution_count": 0,
   "metadata": {
    "colab": {},
    "colab_type": "code",
    "collapsed": true,
    "id": "y9v41u5dlwUY"
   },
   "outputs": [],
   "source": [
    "import json\n",
    "from twython import Twython\n",
    "\n",
    "# Enter your keys/secrets as strings in the following fields\n",
    "credentials = {}  \n",
    "credentials['CONSUMER_KEY'] = 'XXXXXXXXXXXXXXXX'\n",
    "credentials['CONSUMER_SECRET'] = 'XXXXXXXXXXXXXXXXXXXXXXXXXXXXXXXXXXXXX'  \n",
    "credentials['ACCESS_TOKEN'] = 'XXXXXXXXXXXXXXXXXXXXXXXXXXXXXXXXXXXXXXXx'\n",
    "credentials['ACCESS_SECRET'] = 'XXXXXXXXXXXXXXXXXXXXX'\n",
    "\n",
    "# Save the credentials object to file\n",
    "with open(\"twitter_credentials.json\", \"w\") as file:  \n",
    "    json.dump(credentials, file)\n",
    "\n",
    "# Load credentials from json file\n",
    "with open(\"twitter_credentials.json\", \"r\") as file:  \n",
    "    creds = json.load(file)\n",
    "\n",
    "python_tweets = Twython(creds['CONSUMER_KEY'], creds['CONSUMER_SECRET'])"
   ]
  },
  {
   "cell_type": "code",
   "execution_count": 35,
   "metadata": {
    "colab": {
     "base_uri": "https://localhost:8080/",
     "height": 204
    },
    "colab_type": "code",
    "id": "jtHTXgK6kxrR",
    "outputId": "f3859375-585b-4354-fc1c-e6a604a7700c"
   },
   "outputs": [
    {
     "data": {
      "text/html": [
       "<div>\n",
       "<style scoped>\n",
       "    .dataframe tbody tr th:only-of-type {\n",
       "        vertical-align: middle;\n",
       "    }\n",
       "\n",
       "    .dataframe tbody tr th {\n",
       "        vertical-align: top;\n",
       "    }\n",
       "\n",
       "    .dataframe thead th {\n",
       "        text-align: right;\n",
       "    }\n",
       "</style>\n",
       "<table border=\"1\" class=\"dataframe\">\n",
       "  <thead>\n",
       "    <tr style=\"text-align: right;\">\n",
       "      <th></th>\n",
       "      <th>date</th>\n",
       "      <th>text</th>\n",
       "      <th>user</th>\n",
       "    </tr>\n",
       "  </thead>\n",
       "  <tbody>\n",
       "    <tr>\n",
       "      <th>0</th>\n",
       "      <td>Thu Aug 23 21:04:19 +0000 2018</td>\n",
       "      <td>BREAKING: The U.S. Securities and Exchange Com...</td>\n",
       "      <td>coindesk</td>\n",
       "    </tr>\n",
       "    <tr>\n",
       "      <th>1</th>\n",
       "      <td>Mon Aug 27 16:28:15 +0000 2018</td>\n",
       "      <td>Warren Buffett is reportedly exploring the ide...</td>\n",
       "      <td>APompliano</td>\n",
       "    </tr>\n",
       "    <tr>\n",
       "      <th>2</th>\n",
       "      <td>Thu Aug 23 10:55:42 +0000 2018</td>\n",
       "      <td>We didn't need Silk Road\\nWe didn't need Mt Go...</td>\n",
       "      <td>alistairmilne</td>\n",
       "    </tr>\n",
       "    <tr>\n",
       "      <th>3</th>\n",
       "      <td>Sat Aug 25 20:05:00 +0000 2018</td>\n",
       "      <td>It's \"HODL\" and it's the most important acrony...</td>\n",
       "      <td>CNBC</td>\n",
       "    </tr>\n",
       "    <tr>\n",
       "      <th>4</th>\n",
       "      <td>Thu Aug 23 21:16:27 +0000 2018</td>\n",
       "      <td>FULL STORY: SEC Says It Will 'Review' Bitcoin ...</td>\n",
       "      <td>coindesk</td>\n",
       "    </tr>\n",
       "  </tbody>\n",
       "</table>\n",
       "</div>"
      ],
      "text/plain": [
       "                             date  \\\n",
       "0  Thu Aug 23 21:04:19 +0000 2018   \n",
       "1  Mon Aug 27 16:28:15 +0000 2018   \n",
       "2  Thu Aug 23 10:55:42 +0000 2018   \n",
       "3  Sat Aug 25 20:05:00 +0000 2018   \n",
       "4  Thu Aug 23 21:16:27 +0000 2018   \n",
       "\n",
       "                                                text           user  \n",
       "0  BREAKING: The U.S. Securities and Exchange Com...       coindesk  \n",
       "1  Warren Buffett is reportedly exploring the ide...     APompliano  \n",
       "2  We didn't need Silk Road\\nWe didn't need Mt Go...  alistairmilne  \n",
       "3  It's \"HODL\" and it's the most important acrony...           CNBC  \n",
       "4  FULL STORY: SEC Says It Will 'Review' Bitcoin ...       coindesk  "
      ]
     },
     "execution_count": 35,
     "metadata": {
      "tags": []
     },
     "output_type": "execute_result"
    }
   ],
   "source": [
    "query = {'q': 'bitcoin',\n",
    "        'result_type': 'popular',\n",
    "        'count': 10,\n",
    "        'lang': 'en',\n",
    "         'until': '2018-08-28'\n",
    "        }\n",
    "\n",
    "dict_ = {'user': [], 'date': [],'text': [] }  \n",
    "\n",
    "for status in python_tweets.search(**query)['statuses']:  \n",
    "    dict_['user'].append(status['user']['screen_name'])\n",
    "    dict_['date'].append(status['created_at'])\n",
    "    dict_['text'].append(status['text'])\n",
    "\n",
    "# Structure data in a pandas DataFrame for easier manipulation\n",
    "df = pd.DataFrame(dict_)  \n",
    "df.head(5)  "
   ]
  },
  {
   "cell_type": "markdown",
   "metadata": {
    "colab_type": "text",
    "id": "L9GEuaBuFC_r"
   },
   "source": [
    "# Get tweets using Twitter's python API\n",
    "\n",
    "In this section we show how to get the tweets using the official twitter python lib."
   ]
  },
  {
   "cell_type": "code",
   "execution_count": 36,
   "metadata": {
    "colab": {
     "base_uri": "https://localhost:8080/",
     "height": 210
    },
    "colab_type": "code",
    "id": "devnayS4Vk_w",
    "outputId": "c8bea18b-260b-42b6-d713-05acef9fe086"
   },
   "outputs": [
    {
     "name": "stdout",
     "output_type": "stream",
     "text": [
      "Requirement already satisfied: python-twitter in /usr/local/lib/python2.7/dist-packages (3.4.2)\r\n",
      "Requirement already satisfied: future in /usr/local/lib/python2.7/dist-packages (from python-twitter) (0.16.0)\r\n",
      "Requirement already satisfied: requests-oauthlib in /usr/local/lib/python2.7/dist-packages (from python-twitter) (1.0.0)\r\n",
      "Requirement already satisfied: requests in /usr/local/lib/python2.7/dist-packages (from python-twitter) (2.18.4)\n",
      "Requirement already satisfied: oauthlib>=0.6.2 in /usr/local/lib/python2.7/dist-packages (from requests-oauthlib->python-twitter) (2.1.0)\n",
      "Requirement already satisfied: idna<2.7,>=2.5 in /usr/local/lib/python2.7/dist-packages (from requests->python-twitter) (2.6)\n",
      "Requirement already satisfied: urllib3<1.23,>=1.21.1 in /usr/local/lib/python2.7/dist-packages (from requests->python-twitter) (1.22)\n",
      "Requirement already satisfied: certifi>=2017.4.17 in /usr/local/lib/python2.7/dist-packages (from requests->python-twitter) (2018.8.24)\n",
      "Requirement already satisfied: chardet<3.1.0,>=3.0.2 in /usr/local/lib/python2.7/dist-packages (from requests->python-twitter) (3.0.4)\n"
     ]
    }
   ],
   "source": [
    "!pip install python-twitter"
   ]
  },
  {
   "cell_type": "code",
   "execution_count": 0,
   "metadata": {
    "colab": {},
    "colab_type": "code",
    "collapsed": true,
    "id": "twjP_JH3kJC6"
   },
   "outputs": [],
   "source": [
    "import twitter\n",
    "\n",
    "api = twitter.Api(consumer_key='XXXXXXXXXXXXXXXXXXXXX',\n",
    "  consumer_secret='XXXXXXXXXXXXXXXXXXXXXXXXXXXXXXXX',\n",
    "  access_token_key='XXXXXXXXXXXXXXXXXXXXXXXXXXXXXX',\n",
    "  access_token_secret='XXXXXXXXXXXXXXXXXXXXXXXXXXXXXXXXX')"
   ]
  },
  {
   "cell_type": "code",
   "execution_count": 38,
   "metadata": {
    "colab": {
     "base_uri": "https://localhost:8080/",
     "height": 312
    },
    "colab_type": "code",
    "id": "7jmM_ebBkfu1",
    "outputId": "81884b3d-7747-4f03-a07e-b87805ce1234"
   },
   "outputs": [
    {
     "name": "stdout",
     "output_type": "stream",
     "text": [
      "(1035530107862102017, u'\\u201dBitcoin would greatly simplify the movement of global money, it has the potential to become the first worldwide cu\\u2026 https://t.co/yrl3m2a9iZ')\n",
      "(1035543074758447104, u\"The rapper Eminem has given bitcoin's public awareness a boost with a mention of the cryptocurrency on his just-lau\\u2026 https://t.co/ykgTwkihnb\")\n",
      "(1035824009110323200, u'JUST IN: A new version of Bitcoin Core is coming, including a new key language and more. CoinDesk assembles the ear\\u2026 https://t.co/O6ulmwGHFX')\n",
      "(1036113799030304768, u'RT @kubitx: How can I access my money if I buy Crypto?\\n\\nCheck out our solutions for major headache most Crypto lovers often ask\\n\\n#Crypto #C\\u2026')\n",
      "(1036113781783494657, u'RT @Pink_About_it: The Democrat party is dying---- \\n\\nAm I the only one who sees the irony in them holding a political rally at a funeral?\\u2026')\n",
      "(1036113776364466178, u'RT @CryptoSouk: Crypto Souk - Creating a Cryptocurrency Trading Can Be Accessed By Everyone\\n\\nhttps://t.co/oZrxOlOH8F\\n\\n#Crypto #Cryptoforall\\u2026')\n",
      "(1036113770370744320, u'RT @BitFdev: That feeling when you get your first masternode rewards.  #CryptoCurrency #Masternode #Altcoin #Bitcoin #Blockchain https://t.\\u2026')\n",
      "(1036113766583332865, u'1/2\\nTop 5 Cryptocurrency\\n  #  Name      Volume          price\\n      \\n  1  Bitcoin   $4,205,233,750  $7212.24\\n  2  E\\u2026 https://t.co/FOnsjGK11x')\n",
      "(1036113762523041792, u'RT @UFO_Sightings_X: Aircoins Is About To Replace Pokemon Go With Its News Crypto Earning Game! Sept 2018, Gaming World News. https://t.co/\\u2026')\n",
      "(1036113760430301194, u'@marodingro @khotige 25 bitcoin sell wall at the cheapest price ? the creators selling own coins to make money, its a scam')\n",
      "(1036113753161564161, u'2/2\\nTop 5 Cryptocurrency\\n  #  Name          Volume        price\\n      \\n  4  Bitcoin Cash  $615,497,009  $650.22\\n  5\\u2026 https://t.co/G5v1H882qc')\n",
      "(1036113729748967424, u'RT @pokemongopkg: Thank @coincodex to add PKG/ETH pair in @FatBTC ! \\U0001f970 https://t.co/NduR70Nlot \\U0001f680\\U0001f680 #pkgtoken #pkg #bitcoin #crypto #coin #eth\\u2026')\n",
      "(1036113721293262848, u'RT @WhatBitcoinDid: One thing I don\\u2019t understand about $XRP shilling. The primary use case is for banks.\\n\\nBitcoin is so people don\\u2019t requir\\u2026')\n",
      "(1036113719959248896, u\"I liked a @YouTube video https://t.co/SgaHgkkKGR Bitcoin's Origins and the Genesis Blockade\")\n",
      "(1036113718180962304, u'RT @IanLJones98: What are some BlockChain use-cases? #IoT #Industry40 #CyberSecurity #FinTech #Blockchain #Bitcoin #innovation #Insurtech v\\u2026')\n"
     ]
    }
   ],
   "source": [
    "search = api.GetSearch(\"bitcoin\") # Replace happy with your search\n",
    "for tweet in search:\n",
    "    print(tweet.id, tweet.text)"
   ]
  },
  {
   "cell_type": "markdown",
   "metadata": {
    "colab_type": "text",
    "id": "LxP3jHSKC9cn"
   },
   "source": [
    "# Sentiment analysis using GCP\n",
    "\n",
    "Google offers a lot of services in their GCP. One of them is sentiment analysis. In this section we use GCP to get the sentiment of the tweets we collected.\n",
    "\n",
    "This API outputs a score based on the content we sent. In our case, the content is the text in the tweets."
   ]
  },
  {
   "cell_type": "code",
   "execution_count": 0,
   "metadata": {
    "colab": {},
    "colab_type": "code",
    "collapsed": true,
    "id": "3V_ZyJKzDJxR"
   },
   "outputs": [],
   "source": [
    "#https://drive.google.com/open?id=XXXXXXXXXXXXXXXXXXXXXXXXXXX\n",
    "# TAKE ID FROM SHAREABLE LINK\n",
    "gcp_credentials = 'XXXXXXXXXXXXXXXXXXXXXXXXXXXXXX'\n",
    "# DESTINATION FILE ON YOUR DISK\n",
    "destination = './gcp_credentials.json'\n",
    "\n",
    "# Usage: python google_drive.py drive_file_id destination_file_path\n",
    "download_file_from_google_drive(gcp_credentials, destination)"
   ]
  },
  {
   "cell_type": "code",
   "execution_count": 40,
   "metadata": {
    "colab": {
     "base_uri": "https://localhost:8080/",
     "height": 34
    },
    "colab_type": "code",
    "id": "U571uKvWt6i_",
    "outputId": "a77843c5-e986-4f4c-b078-d1fb922b83ea"
   },
   "outputs": [
    {
     "name": "stdout",
     "output_type": "stream",
     "text": [
      "/content/gcp_credentials.json\r\n"
     ]
    }
   ],
   "source": [
    "import os\n",
    "os.environ['GOOGLE_APPLICATION_CREDENTIALS'] = \"/content/gcp_credentials.json\"\n",
    "!echo $GOOGLE_APPLICATION_CREDENTIALS"
   ]
  },
  {
   "cell_type": "code",
   "execution_count": 0,
   "metadata": {
    "colab": {},
    "colab_type": "code",
    "collapsed": true,
    "id": "3uMnyAmXmy0z"
   },
   "outputs": [],
   "source": [
    "from google.cloud import language_v1\n",
    "from google.cloud.language_v1 import enums\n",
    "import six\n",
    "\n",
    "\n",
    "def sample_analyze_sentiment(content):\n",
    "    '''\n",
    "    content = 'Your text to analyze, e.g. Hello, world!'\n",
    "    '''\n",
    "    client = language_v1.LanguageServiceClient()\n",
    "\n",
    "    if isinstance(content, six.binary_type):\n",
    "        content = content.decode('utf-8')\n",
    "\n",
    "    type_ = enums.Document.Type.PLAIN_TEXT\n",
    "    document = {'type': type_, 'content': content}\n",
    "\n",
    "    response = client.analyze_sentiment(document)\n",
    "    sentiment = response.document_sentiment\n",
    "    return sentiment.score"
   ]
  },
  {
   "cell_type": "code",
   "execution_count": 48,
   "metadata": {
    "colab": {
     "base_uri": "https://localhost:8080/",
     "height": 85
    },
    "colab_type": "code",
    "id": "jidR_7nmq-ip",
    "outputId": "20e92bc9-3734-4553-a054-11d74c3ab7ec"
   },
   "outputs": [
    {
     "name": "stdout",
     "output_type": "stream",
     "text": [
      "Example 1: \"Bitcoin value is going to raise! Great chance to become rich!!\"\n",
      "Score: 0.40000000596\n",
      "Example 2: \"Bitcoin value is gonna drop! Dont buy!!\"\n",
      "Score: -0.20000000298\n"
     ]
    }
   ],
   "source": [
    "content = 'Bitcoin value is going to raise! Great chance to become rich!!'\n",
    "score = sample_analyze_sentiment (content)\n",
    "print ('Example 1: \\\"{0}\\\"'.format(content))\n",
    "print('Score: {}'.format(score))\n",
    "\n",
    "content = 'Bitcoin value is gonna drop! Don''t buy!!'\n",
    "score = sample_analyze_sentiment (content)\n",
    "print ('Example 2: \\\"{0}\\\"'.format(content))\n",
    "print('Score: {}'.format(score))"
   ]
  },
  {
   "cell_type": "code",
   "execution_count": 49,
   "metadata": {
    "colab": {
     "base_uri": "https://localhost:8080/",
     "height": 2397
    },
    "colab_type": "code",
    "id": "xYwf2wOVzicQ",
    "outputId": "b61ec7b4-14ec-473d-9bc2-7dbc02877002"
   },
   "outputs": [
    {
     "data": {
      "text/plain": [
       "[0.6000000238418579,\n",
       " 0.0,\n",
       " -0.4000000059604645,\n",
       " 0.8999999761581421,\n",
       " -0.20000000298023224,\n",
       " -0.20000000298023224,\n",
       " 0.4000000059604645,\n",
       " 0.5,\n",
       " 0.0,\n",
       " 0.5,\n",
       " 0.0,\n",
       " 0.699999988079071,\n",
       " -0.800000011920929,\n",
       " 0.30000001192092896,\n",
       " -0.10000000149011612,\n",
       " 0.0,\n",
       " 0.10000000149011612,\n",
       " 0.0,\n",
       " 0.5,\n",
       " 0.0,\n",
       " 0.0,\n",
       " 0.20000000298023224,\n",
       " 0.10000000149011612,\n",
       " 0.4000000059604645,\n",
       " 0.0,\n",
       " 0.20000000298023224,\n",
       " 0.800000011920929,\n",
       " 0.20000000298023224,\n",
       " 0.10000000149011612,\n",
       " 0.0,\n",
       " 0.0,\n",
       " 0.20000000298023224,\n",
       " 0.10000000149011612,\n",
       " 0.10000000149011612,\n",
       " 0.20000000298023224,\n",
       " 0.0,\n",
       " 0.10000000149011612,\n",
       " -0.20000000298023224,\n",
       " 0.0,\n",
       " 0.20000000298023224,\n",
       " 0.20000000298023224,\n",
       " 0.5,\n",
       " 0.10000000149011612,\n",
       " 0.10000000149011612,\n",
       " 0.0,\n",
       " 0.4000000059604645,\n",
       " 0.10000000149011612,\n",
       " 0.5,\n",
       " -0.20000000298023224,\n",
       " 0.30000001192092896,\n",
       " 0.10000000149011612,\n",
       " 0.8999999761581421,\n",
       " 0.20000000298023224,\n",
       " -0.10000000149011612,\n",
       " 0.20000000298023224,\n",
       " 0.30000001192092896,\n",
       " 0.0,\n",
       " 0.5,\n",
       " -0.5,\n",
       " 0.10000000149011612,\n",
       " 0.10000000149011612,\n",
       " -0.20000000298023224,\n",
       " 0.20000000298023224,\n",
       " 0.10000000149011612,\n",
       " 0.4000000059604645,\n",
       " -0.10000000149011612,\n",
       " 0.20000000298023224,\n",
       " 0.800000011920929,\n",
       " 0.10000000149011612,\n",
       " -0.20000000298023224,\n",
       " 0.30000001192092896,\n",
       " 0.0,\n",
       " -0.20000000298023224,\n",
       " 0.4000000059604645,\n",
       " -0.4000000059604645,\n",
       " 0.20000000298023224,\n",
       " 0.10000000149011612,\n",
       " 0.10000000149011612,\n",
       " 0.20000000298023224,\n",
       " 0.10000000149011612,\n",
       " 0.699999988079071,\n",
       " -0.4000000059604645,\n",
       " -0.20000000298023224,\n",
       " 0.800000011920929,\n",
       " 0.0,\n",
       " -0.10000000149011612,\n",
       " 0.0,\n",
       " -0.20000000298023224,\n",
       " 0.20000000298023224,\n",
       " 0.10000000149011612,\n",
       " 0.20000000298023224,\n",
       " 0.0,\n",
       " 0.0,\n",
       " 0.4000000059604645,\n",
       " -0.10000000149011612,\n",
       " -0.30000001192092896,\n",
       " -0.4000000059604645,\n",
       " 0.6000000238418579,\n",
       " 0.10000000149011612,\n",
       " -0.699999988079071,\n",
       " 0.0,\n",
       " 0.4000000059604645,\n",
       " 0.0,\n",
       " 0.10000000149011612,\n",
       " -0.10000000149011612,\n",
       " -0.30000001192092896,\n",
       " 0.0,\n",
       " -0.699999988079071,\n",
       " 0.0,\n",
       " 0.30000001192092896,\n",
       " 0.0,\n",
       " 0.20000000298023224,\n",
       " 0.0,\n",
       " 0.4000000059604645,\n",
       " 0.10000000149011612,\n",
       " -0.30000001192092896,\n",
       " -0.5,\n",
       " 0.10000000149011612,\n",
       " 0.30000001192092896,\n",
       " 0.0,\n",
       " 0.30000001192092896,\n",
       " 0.10000000149011612,\n",
       " 0.4000000059604645,\n",
       " -0.10000000149011612,\n",
       " 0.30000001192092896,\n",
       " 0.10000000149011612,\n",
       " 0.0,\n",
       " 0.4000000059604645,\n",
       " 0.30000001192092896,\n",
       " -0.30000001192092896,\n",
       " -0.5,\n",
       " 0.4000000059604645,\n",
       " -0.10000000149011612,\n",
       " 0.0,\n",
       " 0.0,\n",
       " 0.0,\n",
       " -0.5,\n",
       " -0.10000000149011612,\n",
       " -0.30000001192092896,\n",
       " 0.30000001192092896]"
      ]
     },
     "execution_count": 49,
     "metadata": {
      "tags": []
     },
     "output_type": "execute_result"
    }
   ],
   "source": [
    "scores = []\n",
    "\n",
    "for tweet in tweets[1]:\n",
    "    scores.append(sample_analyze_sentiment (tweet))\n",
    "    \n",
    "scores"
   ]
  },
  {
   "cell_type": "markdown",
   "metadata": {
    "colab_type": "text",
    "id": "2j91QG9hpDes"
   },
   "source": [
    "Once we have the sentiment for all the tweets, let's calculate the general sentiment for the day..."
   ]
  },
  {
   "cell_type": "code",
   "execution_count": 50,
   "metadata": {
    "colab": {
     "base_uri": "https://localhost:8080/",
     "height": 51
    },
    "colab_type": "code",
    "id": "gSNdBTF3z-sc",
    "outputId": "8e45ffd4-1421-49f3-ec58-df15b136052d"
   },
   "outputs": [
    {
     "data": {
      "text/plain": [
       "array([1.39999999e-01, 1.35000002e-01, 1.85000001e-01, 1.10000002e-01,\n",
       "       3.50000009e-02, 1.49011612e-09, 3.50000020e-02])"
      ]
     },
     "execution_count": 50,
     "metadata": {
      "tags": []
     },
     "output_type": "execute_result"
    }
   ],
   "source": [
    "import numpy as np\n",
    "\n",
    "npscore = np.array(scores)\n",
    "\n",
    "npscore.reshape(7,20).mean(1)"
   ]
  },
  {
   "cell_type": "code",
   "execution_count": 0,
   "metadata": {
    "colab": {},
    "colab_type": "code",
    "collapsed": true,
    "id": "OSnean6io_My"
   },
   "outputs": [],
   "source": []
  }
 ],
 "metadata": {
  "colab": {
   "name": "Twitter sentiment.ipynb",
   "provenance": [],
   "toc_visible": true,
   "version": "0.3.2"
  },
  "kernelspec": {
   "display_name": "Python 3",
   "language": "python",
   "name": "python3"
  },
  "language_info": {
   "codemirror_mode": {
    "name": "ipython",
    "version": 3
   },
   "file_extension": ".py",
   "mimetype": "text/x-python",
   "name": "python",
   "nbconvert_exporter": "python",
   "pygments_lexer": "ipython3",
   "version": "3.6.2"
  }
 },
 "nbformat": 4,
 "nbformat_minor": 1
}
