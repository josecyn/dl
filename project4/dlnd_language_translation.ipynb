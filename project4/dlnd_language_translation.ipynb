{
 "cells": [
  {
   "cell_type": "markdown",
   "metadata": {
    "collapsed": true,
    "deletable": true,
    "editable": true
   },
   "source": [
    "# Language Translation\n",
    "In this project, you’re going to take a peek into the realm of neural network machine translation.  You’ll be training a sequence to sequence model on a dataset of English and French sentences that can translate new sentences from English to French.\n",
    "## Get the Data\n",
    "Since translating the whole language of English to French will take lots of time to train, we have provided you with a small portion of the English corpus."
   ]
  },
  {
   "cell_type": "code",
   "execution_count": 1,
   "metadata": {
    "collapsed": false,
    "deletable": true,
    "editable": true
   },
   "outputs": [],
   "source": [
    "import tensorflow as tf\n"
   ]
  },
  {
   "cell_type": "code",
   "execution_count": 2,
   "metadata": {
    "collapsed": false,
    "deletable": true,
    "editable": true
   },
   "outputs": [],
   "source": [
    "\"\"\"\n",
    "DON'T MODIFY ANYTHING IN THIS CELL\n",
    "\"\"\"\n",
    "import helper\n",
    "import problem_unittests as tests\n",
    "\n",
    "source_path = 'data/small_vocab_en'\n",
    "target_path = 'data/small_vocab_fr'\n",
    "source_text = helper.load_data(source_path)\n",
    "target_text = helper.load_data(target_path)"
   ]
  },
  {
   "cell_type": "markdown",
   "metadata": {
    "deletable": true,
    "editable": true
   },
   "source": [
    "## Explore the Data\n",
    "Play around with view_sentence_range to view different parts of the data."
   ]
  },
  {
   "cell_type": "code",
   "execution_count": 3,
   "metadata": {
    "collapsed": false,
    "deletable": true,
    "editable": true
   },
   "outputs": [
    {
     "name": "stdout",
     "output_type": "stream",
     "text": [
      "Dataset Stats\n",
      "Roughly the number of unique words: 227\n",
      "Number of sentences: 137861\n",
      "Average number of words in a sentence: 13.225277634719028\n",
      "\n",
      "English sentences 0 to 10:\n",
      "new jersey is sometimes quiet during autumn , and it is snowy in april .\n",
      "the united states is usually chilly during july , and it is usually freezing in november .\n",
      "california is usually quiet during march , and it is usually hot in june .\n",
      "the united states is sometimes mild during june , and it is cold in september .\n",
      "your least liked fruit is the grape , but my least liked is the apple .\n",
      "his favorite fruit is the orange , but my favorite is the grape .\n",
      "paris is relaxing during december , but it is usually chilly in july .\n",
      "new jersey is busy during spring , and it is never hot in march .\n",
      "our least liked fruit is the lemon , but my least liked is the grape .\n",
      "the united states is sometimes busy during january , and it is sometimes warm in november .\n",
      "\n",
      "French sentences 0 to 10:\n",
      "new jersey est parfois calme pendant l' automne , et il est neigeux en avril .\n",
      "les états-unis est généralement froid en juillet , et il gèle habituellement en novembre .\n",
      "california est généralement calme en mars , et il est généralement chaud en juin .\n",
      "les états-unis est parfois légère en juin , et il fait froid en septembre .\n",
      "votre moins aimé fruit est le raisin , mais mon moins aimé est la pomme .\n",
      "son fruit préféré est l'orange , mais mon préféré est le raisin .\n",
      "paris est relaxant en décembre , mais il est généralement froid en juillet .\n",
      "new jersey est occupé au printemps , et il est jamais chaude en mars .\n",
      "notre fruit est moins aimé le citron , mais mon moins aimé est le raisin .\n",
      "les états-unis est parfois occupé en janvier , et il est parfois chaud en novembre .\n"
     ]
    }
   ],
   "source": [
    "view_sentence_range = (0, 10)\n",
    "\n",
    "\"\"\"\n",
    "DON'T MODIFY ANYTHING IN THIS CELL\n",
    "\"\"\"\n",
    "import numpy as np\n",
    "\n",
    "print('Dataset Stats')\n",
    "print('Roughly the number of unique words: {}'.format(len({word: None for word in source_text.split()})))\n",
    "\n",
    "sentences = source_text.split('\\n')\n",
    "word_counts = [len(sentence.split()) for sentence in sentences]\n",
    "print('Number of sentences: {}'.format(len(sentences)))\n",
    "print('Average number of words in a sentence: {}'.format(np.average(word_counts)))\n",
    "\n",
    "print()\n",
    "print('English sentences {} to {}:'.format(*view_sentence_range))\n",
    "print('\\n'.join(source_text.split('\\n')[view_sentence_range[0]:view_sentence_range[1]]))\n",
    "print()\n",
    "print('French sentences {} to {}:'.format(*view_sentence_range))\n",
    "print('\\n'.join(target_text.split('\\n')[view_sentence_range[0]:view_sentence_range[1]]))"
   ]
  },
  {
   "cell_type": "markdown",
   "metadata": {
    "deletable": true,
    "editable": true
   },
   "source": [
    "## Implement Preprocessing Function\n",
    "### Text to Word Ids\n",
    "As you did with other RNNs, you must turn the text into a number so the computer can understand it. In the function `text_to_ids()`, you'll turn `source_text` and `target_text` from words to ids.  However, you need to add the `<EOS>` word id at the end of `target_text`.  This will help the neural network predict when the sentence should end.\n",
    "\n",
    "You can get the `<EOS>` word id by doing:\n",
    "```python\n",
    "target_vocab_to_int['<EOS>']\n",
    "```\n",
    "You can get other word ids using `source_vocab_to_int` and `target_vocab_to_int`."
   ]
  },
  {
   "cell_type": "code",
   "execution_count": 4,
   "metadata": {
    "collapsed": false,
    "deletable": true,
    "editable": true
   },
   "outputs": [
    {
     "name": "stdout",
     "output_type": "stream",
     "text": [
      "Tests Passed\n"
     ]
    }
   ],
   "source": [
    "def text_to_ids(source_text, target_text, source_vocab_to_int, target_vocab_to_int):\n",
    "    \"\"\"\n",
    "    Convert source and target text to proper word ids\n",
    "    :param source_text: String that contains all the source text.\n",
    "    :param target_text: String that contains all the target text.\n",
    "    :param source_vocab_to_int: Dictionary to go from the source words to an id\n",
    "    :param target_vocab_to_int: Dictionary to go from the target words to an id\n",
    "    :return: A tuple of lists (source_id_text, target_id_text)\n",
    "    \"\"\"\n",
    "    src_id_text = [[source_vocab_to_int[word] for word in line.split()] for \n",
    "                  line in source_text.split('\\n')]\n",
    "    target_id_text = [[target_vocab_to_int[word] for word in line.split()] for \n",
    "                     line in target_text.split('\\n')]\n",
    "    \n",
    "    end = target_vocab_to_int['<EOS>']\n",
    "    \n",
    "    target_id_text = [line + [end] for line in target_id_text] # appending eos for every line\n",
    "    \n",
    "    return src_id_text, target_id_text\n",
    "\n",
    "\"\"\"\n",
    "DON'T MODIFY ANYTHING IN THIS CELL THAT IS BELOW THIS LINE\n",
    "\"\"\"\n",
    "tests.test_text_to_ids(text_to_ids)"
   ]
  },
  {
   "cell_type": "markdown",
   "metadata": {
    "deletable": true,
    "editable": true
   },
   "source": [
    "### Preprocess all the data and save it\n",
    "Running the code cell below will preprocess all the data and save it to file."
   ]
  },
  {
   "cell_type": "code",
   "execution_count": 5,
   "metadata": {
    "collapsed": true,
    "deletable": true,
    "editable": true
   },
   "outputs": [],
   "source": [
    "\"\"\"\n",
    "DON'T MODIFY ANYTHING IN THIS CELL\n",
    "\"\"\"\n",
    "helper.preprocess_and_save_data(source_path, target_path, text_to_ids)"
   ]
  },
  {
   "cell_type": "markdown",
   "metadata": {
    "deletable": true,
    "editable": true
   },
   "source": [
    "# Check Point\n",
    "This is your first checkpoint. If you ever decide to come back to this notebook or have to restart the notebook, you can start from here. The preprocessed data has been saved to disk."
   ]
  },
  {
   "cell_type": "code",
   "execution_count": 6,
   "metadata": {
    "collapsed": true,
    "deletable": true,
    "editable": true
   },
   "outputs": [],
   "source": [
    "\"\"\"\n",
    "DON'T MODIFY ANYTHING IN THIS CELL\n",
    "\"\"\"\n",
    "import numpy as np\n",
    "import helper\n",
    "import problem_unittests as tests\n",
    "\n",
    "(source_int_text, target_int_text), (source_vocab_to_int, target_vocab_to_int), _ = helper.load_preprocess()"
   ]
  },
  {
   "cell_type": "markdown",
   "metadata": {
    "deletable": true,
    "editable": true
   },
   "source": [
    "### Check the Version of TensorFlow and Access to GPU\n",
    "This will check to make sure you have the correct version of TensorFlow and access to a GPU"
   ]
  },
  {
   "cell_type": "code",
   "execution_count": 7,
   "metadata": {
    "collapsed": false,
    "deletable": true,
    "editable": true
   },
   "outputs": [
    {
     "name": "stdout",
     "output_type": "stream",
     "text": [
      "TensorFlow Version: 1.1.0\n"
     ]
    },
    {
     "name": "stderr",
     "output_type": "stream",
     "text": [
      "/home/carnd/anaconda3/envs/dl/lib/python3.5/site-packages/ipykernel/__main__.py:15: UserWarning: No GPU found. Please use a GPU to train your neural network.\n"
     ]
    }
   ],
   "source": [
    "\"\"\"\n",
    "DON'T MODIFY ANYTHING IN THIS CELL\n",
    "\"\"\"\n",
    "from distutils.version import LooseVersion\n",
    "import warnings\n",
    "import tensorflow as tf\n",
    "from tensorflow.python.layers.core import Dense\n",
    "\n",
    "# Check TensorFlow Version\n",
    "assert LooseVersion(tf.__version__) >= LooseVersion('1.1'), 'Please use TensorFlow version 1.1 or newer'\n",
    "print('TensorFlow Version: {}'.format(tf.__version__))\n",
    "\n",
    "# Check for a GPU\n",
    "if not tf.test.gpu_device_name():\n",
    "    warnings.warn('No GPU found. Please use a GPU to train your neural network.')\n",
    "else:\n",
    "    print('Default GPU Device: {}'.format(tf.test.gpu_device_name()))"
   ]
  },
  {
   "cell_type": "markdown",
   "metadata": {
    "deletable": true,
    "editable": true
   },
   "source": [
    "## Build the Neural Network\n",
    "You'll build the components necessary to build a Sequence-to-Sequence model by implementing the following functions below:\n",
    "- `model_inputs`\n",
    "- `process_decoder_input`\n",
    "- `encoding_layer`\n",
    "- `decoding_layer_train`\n",
    "- `decoding_layer_infer`\n",
    "- `decoding_layer`\n",
    "- `seq2seq_model`\n",
    "\n",
    "### Input\n",
    "Implement the `model_inputs()` function to create TF Placeholders for the Neural Network. It should create the following placeholders:\n",
    "\n",
    "- Input text placeholder named \"input\" using the TF Placeholder name parameter with rank 2.\n",
    "- Targets placeholder with rank 2.\n",
    "- Learning rate placeholder with rank 0.\n",
    "- Keep probability placeholder named \"keep_prob\" using the TF Placeholder name parameter with rank 0.\n",
    "- Target sequence length placeholder named \"target_sequence_length\" with rank 1\n",
    "- Max target sequence length tensor named \"max_target_len\" getting its value from applying tf.reduce_max on the target_sequence_length placeholder. Rank 0.\n",
    "- Source sequence length placeholder named \"source_sequence_length\" with rank 1\n",
    "\n",
    "Return the placeholders in the following the tuple (input, targets, learning rate, keep probability, target sequence length, max target sequence length, source sequence length)"
   ]
  },
  {
   "cell_type": "code",
   "execution_count": 8,
   "metadata": {
    "collapsed": false,
    "deletable": true,
    "editable": true
   },
   "outputs": [
    {
     "name": "stdout",
     "output_type": "stream",
     "text": [
      "Tests Passed\n"
     ]
    }
   ],
   "source": [
    "def model_inputs():\n",
    "    \"\"\"\n",
    "    Create TF Placeholders for input, targets, learning rate, and lengths of source and target sequences.\n",
    "    :return: Tuple (input, targets, learning rate, keep probability, target sequence length,\n",
    "    max target sequence length, source sequence length)\n",
    "    \"\"\"\n",
    "    inputs = tf.placeholder (tf.int32, [None, None], name='input')\n",
    "    targets = tf.placeholder (tf.int32, [None, None], name='target')\n",
    "    learning_rate = tf.placeholder (tf.float32)\n",
    "    keep_prob = tf.placeholder (tf.float32, name='keep_prob')\n",
    "    target_seq_length = tf.placeholder (tf.int32, [None], name='target_sequence_length')\n",
    "    max_target_length = tf.reduce_max(target_seq_length, name='max_target_len')\n",
    "    source_seq_length = tf.placeholder(tf.float32, [None], name='source_sequence_length')\n",
    "    \n",
    "    return (inputs, targets, learning_rate, keep_prob, target_seq_length, max_target_length, source_seq_length)\n",
    "\n",
    "\"\"\"\n",
    "DON'T MODIFY ANYTHING IN THIS CELL THAT IS BELOW THIS LINE\n",
    "\"\"\"\n",
    "tests.test_model_inputs(model_inputs)"
   ]
  },
  {
   "cell_type": "markdown",
   "metadata": {
    "deletable": true,
    "editable": true
   },
   "source": [
    "### Process Decoder Input\n",
    "Implement `process_decoder_input` by removing the last word id from each batch in `target_data` and concat the GO ID to the begining of each batch."
   ]
  },
  {
   "cell_type": "code",
   "execution_count": 9,
   "metadata": {
    "collapsed": false,
    "deletable": true,
    "editable": true
   },
   "outputs": [
    {
     "name": "stdout",
     "output_type": "stream",
     "text": [
      "Tests Passed\n"
     ]
    }
   ],
   "source": [
    "def process_decoder_input(target_data, target_vocab_to_int, batch_size):\n",
    "    \"\"\"\n",
    "    Preprocess target data for encoding\n",
    "    :param target_data: Target Placehoder\n",
    "    :param target_vocab_to_int: Dictionary to go from the target words to an id\n",
    "    :param batch_size: Batch Size\n",
    "    :return: Preprocessed target data\n",
    "    \"\"\"\n",
    "    ending = tf.strided_slice(target_data, [0, 0], [batch_size, -1], [1, 1])\n",
    "    decoder_input = tf.concat([tf.fill([batch_size, 1], target_vocab_to_int['<GO>']), ending], 1)\n",
    "    \n",
    "    return decoder_input\n",
    "\n",
    "\"\"\"\n",
    "DON'T MODIFY ANYTHING IN THIS CELL THAT IS BELOW THIS LINE\n",
    "\"\"\"\n",
    "tests.test_process_encoding_input(process_decoder_input)"
   ]
  },
  {
   "cell_type": "markdown",
   "metadata": {
    "deletable": true,
    "editable": true
   },
   "source": [
    "### Encoding\n",
    "Implement `encoding_layer()` to create a Encoder RNN layer:\n",
    " * Embed the encoder input using [`tf.contrib.layers.embed_sequence`](https://www.tensorflow.org/api_docs/python/tf/contrib/layers/embed_sequence)\n",
    " * Construct a [stacked](https://github.com/tensorflow/tensorflow/blob/6947f65a374ebf29e74bb71e36fd82760056d82c/tensorflow/docs_src/tutorials/recurrent.md#stacking-multiple-lstms) [`tf.contrib.rnn.LSTMCell`](https://www.tensorflow.org/api_docs/python/tf/contrib/rnn/LSTMCell) wrapped in a [`tf.contrib.rnn.DropoutWrapper`](https://www.tensorflow.org/api_docs/python/tf/contrib/rnn/DropoutWrapper)\n",
    " * Pass cell and embedded input to [`tf.nn.dynamic_rnn()`](https://www.tensorflow.org/api_docs/python/tf/nn/dynamic_rnn)"
   ]
  },
  {
   "cell_type": "code",
   "execution_count": 10,
   "metadata": {
    "collapsed": false,
    "deletable": true,
    "editable": true,
    "scrolled": false
   },
   "outputs": [
    {
     "name": "stdout",
     "output_type": "stream",
     "text": [
      "Tests Passed\n"
     ]
    }
   ],
   "source": [
    "from imp import reload\n",
    "reload(tests)\n",
    "\n",
    "def encoding_layer(rnn_inputs, rnn_size, num_layers, keep_prob, \n",
    "                   source_sequence_length, source_vocab_size, \n",
    "                   encoding_embedding_size):\n",
    "    \"\"\"\n",
    "    Create encoding layer\n",
    "    :param rnn_inputs: Inputs for the RNN\n",
    "    :param rnn_size: RNN Size\n",
    "    :param num_layers: Number of layers\n",
    "    :param keep_prob: Dropout keep probability\n",
    "    :param source_sequence_length: a list of the lengths of each sequence in the batch\n",
    "    :param source_vocab_size: vocabulary size of source data\n",
    "    :param encoding_embedding_size: embedding size of source data\n",
    "    :return: tuple (RNN output, RNN state)\n",
    "    \"\"\"\n",
    "\n",
    "    # Enc embedding\n",
    "    enc_embed_input = tf.contrib.layers.embed_sequence(rnn_inputs, \n",
    "                                                       source_vocab_size, \n",
    "                                                       encoding_embedding_size)\n",
    "    \n",
    "    def make_cell(rnn_size):\n",
    "        enc_cell = tf.contrib.rnn.LSTMCell(rnn_size, \n",
    "                                           initializer = tf.random_uniform_initializer(-0.1, 0.1))\n",
    "        \n",
    "        return enc_cell\n",
    "\n",
    "    encoder_cell = tf.contrib.rnn.MultiRNNCell([make_cell(rnn_size) for _ in range(num_layers)])\n",
    "    \n",
    "    encoder_output, encoder_state = tf.nn.dynamic_rnn(encoder_cell, \n",
    "                                                  enc_embed_input, \n",
    "                                                  sequence_length=source_sequence_length, \n",
    "                                                  dtype=tf.float32)\n",
    "    \n",
    "    return encoder_output, encoder_state\n",
    "\n",
    "\"\"\"\n",
    "DON'T MODIFY ANYTHING IN THIS CELL THAT IS BELOW THIS LINE\n",
    "\"\"\"\n",
    "tests.test_encoding_layer(encoding_layer)"
   ]
  },
  {
   "cell_type": "markdown",
   "metadata": {
    "deletable": true,
    "editable": true
   },
   "source": [
    "### Decoding - Training\n",
    "Create a training decoding layer:\n",
    "* Create a [`tf.contrib.seq2seq.TrainingHelper`](https://www.tensorflow.org/api_docs/python/tf/contrib/seq2seq/TrainingHelper) \n",
    "* Create a [`tf.contrib.seq2seq.BasicDecoder`](https://www.tensorflow.org/api_docs/python/tf/contrib/seq2seq/BasicDecoder)\n",
    "* Obtain the decoder outputs from [`tf.contrib.seq2seq.dynamic_decode`](https://www.tensorflow.org/api_docs/python/tf/contrib/seq2seq/dynamic_decode)"
   ]
  },
  {
   "cell_type": "code",
   "execution_count": 11,
   "metadata": {
    "collapsed": false,
    "deletable": true,
    "editable": true
   },
   "outputs": [
    {
     "name": "stdout",
     "output_type": "stream",
     "text": [
      "Tests Passed\n"
     ]
    }
   ],
   "source": [
    "\n",
    "def decoding_layer_train(encoder_state, dec_cell, dec_embed_input, \n",
    "                         target_sequence_length, max_summary_length, \n",
    "                         output_layer, keep_prob):\n",
    "    \"\"\"\n",
    "    Create a decoding layer for training\n",
    "    :param encoder_state: Encoder State\n",
    "    :param dec_cell: Decoder RNN Cell\n",
    "    :param dec_embed_input: Decoder embedded input\n",
    "    :param target_sequence_length: The lengths of each sequence in the target batch\n",
    "    :param max_summary_length: The length of the longest sequence in the batch\n",
    "    :param output_layer: Function to apply the output layer\n",
    "    :param keep_prob: Dropout keep probability\n",
    "    :return: BasicDecoderOutput containing training logits and sample_id\n",
    "    \"\"\"\n",
    "\n",
    "    training_help = tf.contrib.seq2seq.TrainingHelper(inputs=dec_embed_input, \n",
    "                                                      sequence_length=target_sequence_length, \n",
    "                                                      time_major=False)\n",
    "    \n",
    "    training_dec = tf.contrib.seq2seq.BasicDecoder(dec_cell, \n",
    "                                                   training_help,\n",
    "                                                   encoder_state, \n",
    "                                                   output_layer)\n",
    "    \n",
    "    training_dec_output, _ = tf.contrib.seq2seq.dynamic_decode(training_dec, \n",
    "                                                               impute_finished=True, \n",
    "                                                               maximum_iterations=max_summary_length)\n",
    "    \n",
    "    return training_dec_output\n",
    "\n",
    "\"\"\"\n",
    "DON'T MODIFY ANYTHING IN THIS CELL THAT IS BELOW THIS LINE\n",
    "\"\"\"\n",
    "tests.test_decoding_layer_train(decoding_layer_train)"
   ]
  },
  {
   "cell_type": "markdown",
   "metadata": {
    "deletable": true,
    "editable": true
   },
   "source": [
    "### Decoding - Inference\n",
    "Create inference decoder:\n",
    "* Create a [`tf.contrib.seq2seq.GreedyEmbeddingHelper`](https://www.tensorflow.org/api_docs/python/tf/contrib/seq2seq/GreedyEmbeddingHelper)\n",
    "* Create a [`tf.contrib.seq2seq.BasicDecoder`](https://www.tensorflow.org/api_docs/python/tf/contrib/seq2seq/BasicDecoder)\n",
    "* Obtain the decoder outputs from [`tf.contrib.seq2seq.dynamic_decode`](https://www.tensorflow.org/api_docs/python/tf/contrib/seq2seq/dynamic_decode)"
   ]
  },
  {
   "cell_type": "code",
   "execution_count": 12,
   "metadata": {
    "collapsed": false,
    "deletable": true,
    "editable": true,
    "scrolled": true
   },
   "outputs": [
    {
     "name": "stdout",
     "output_type": "stream",
     "text": [
      "Tests Passed\n"
     ]
    }
   ],
   "source": [
    "def decoding_layer_infer(encoder_state, dec_cell, dec_embeddings, start_of_sequence_id,\n",
    "                         end_of_sequence_id, max_target_sequence_length,\n",
    "                         vocab_size, output_layer, batch_size, keep_prob):\n",
    "    \"\"\"\n",
    "    Create a decoding layer for inference\n",
    "    :param encoder_state: Encoder state\n",
    "    :param dec_cell: Decoder RNN Cell\n",
    "    :param dec_embeddings: Decoder embeddings\n",
    "    :param start_of_sequence_id: GO ID\n",
    "    :param end_of_sequence_id: EOS Id\n",
    "    :param max_target_sequence_length: Maximum length of target sequences\n",
    "    :param vocab_size: Size of decoder/target vocabulary\n",
    "    :param decoding_scope: TenorFlow Variable Scope for decoding\n",
    "    :param output_layer: Function to apply the output layer\n",
    "    :param batch_size: Batch size\n",
    "    :param keep_prob: Dropout keep probability\n",
    "    :return: BasicDecoderOutput containing inference logits and sample_id\n",
    "    \"\"\"\n",
    "    # TODO: Implement Function\n",
    "    start_token = tf.tile(tf.constant([start_of_sequence_id], dtype=tf.int32), [batch_size], name='start_token')\n",
    "    \n",
    "    inference_help = tf.contrib.seq2seq.GreedyEmbeddingHelper(dec_embeddings, \n",
    "                                                              start_token, \n",
    "                                                              end_of_sequence_id)\n",
    "    \n",
    "    inference_dec = tf.contrib.seq2seq.BasicDecoder(dec_cell, \n",
    "                                                    inference_help, \n",
    "                                                    encoder_state, \n",
    "                                                    output_layer)\n",
    "    \n",
    "    inference_dec_output, _ = tf.contrib.seq2seq.dynamic_decode(inference_dec, \n",
    "                                                                impute_finished=True, \n",
    "                                                                maximum_iterations=max_target_sequence_length)\n",
    "    \n",
    "    return inference_dec_output\n",
    "\n",
    "\"\"\"\n",
    "DON'T MODIFY ANYTHING IN THIS CELL THAT IS BELOW THIS LINE\n",
    "\"\"\"\n",
    "tests.test_decoding_layer_infer(decoding_layer_infer)"
   ]
  },
  {
   "cell_type": "markdown",
   "metadata": {
    "deletable": true,
    "editable": true
   },
   "source": [
    "### Build the Decoding Layer\n",
    "Implement `decoding_layer()` to create a Decoder RNN layer.\n",
    "\n",
    "* Embed the target sequences\n",
    "* Construct the decoder LSTM cell (just like you constructed the encoder cell above)\n",
    "* Create an output layer to map the outputs of the decoder to the elements of our vocabulary\n",
    "* Use the your `decoding_layer_train(encoder_state, dec_cell, dec_embed_input, target_sequence_length, max_target_sequence_length, output_layer, keep_prob)` function to get the training logits.\n",
    "* Use your `decoding_layer_infer(encoder_state, dec_cell, dec_embeddings, start_of_sequence_id, end_of_sequence_id, max_target_sequence_length, vocab_size, output_layer, batch_size, keep_prob)` function to get the inference logits.\n",
    "\n",
    "Note: You'll need to use [tf.variable_scope](https://www.tensorflow.org/api_docs/python/tf/variable_scope) to share variables between training and inference."
   ]
  },
  {
   "cell_type": "code",
   "execution_count": 13,
   "metadata": {
    "collapsed": false,
    "deletable": true,
    "editable": true
   },
   "outputs": [
    {
     "name": "stdout",
     "output_type": "stream",
     "text": [
      "Tests Passed\n"
     ]
    }
   ],
   "source": [
    "def decoding_layer(dec_input, encoder_state,\n",
    "                   target_sequence_length, max_target_sequence_length,\n",
    "                   rnn_size,\n",
    "                   num_layers, target_vocab_to_int, target_vocab_size,\n",
    "                   batch_size, keep_prob, decoding_embedding_size):\n",
    "    \"\"\"\n",
    "    Create decoding layer\n",
    "    :param dec_input: Decoder input\n",
    "    :param encoder_state: Encoder state\n",
    "    :param target_sequence_length: The lengths of each sequence in the target batch\n",
    "    :param max_target_sequence_length: Maximum length of target sequences\n",
    "    :param rnn_size: RNN Size\n",
    "    :param num_layers: Number of layers\n",
    "    :param target_vocab_to_int: Dictionary to go from the target words to an id\n",
    "    :param target_vocab_size: Size of target vocabulary\n",
    "    :param batch_size: The size of the batch\n",
    "    :param keep_prob: Dropout keep probability\n",
    "    :param decoding_embedding_size: Decoding embedding size\n",
    "    :return: Tuple of (Training BasicDecoderOutput, Inference BasicDecoderOutput)\n",
    "    \"\"\"\n",
    "\n",
    "    dec_embeddings = tf.Variable(tf.random_uniform([target_vocab_size, decoding_embedding_size]))\n",
    "    dec_embed_input = tf.nn.embedding_lookup(dec_embeddings, dec_input)\n",
    "    \n",
    "    def make_cell(rnn_size):\n",
    "        decoder_cell = tf.contrib.rnn.LSTMCell(rnn_size, initializer=tf.random_uniform_initializer(-0.1, 0.1))\n",
    "        \n",
    "        return decoder_cell\n",
    "    \n",
    "    dec_cell = tf.contrib.rnn.MultiRNNCell([make_cell(rnn_size) for _ in range(num_layers)])\n",
    "    \n",
    "      \n",
    "    output_layer = Dense(target_vocab_size, \n",
    "                         kernel_initializer=tf.truncated_normal_initializer(mean=0.0, stddev=0.1))\n",
    "    \n",
    "    with tf.variable_scope('decode') as scope:\n",
    "        training_decoder_output = decoding_layer_train(encoder_state, \n",
    "                                                        dec_cell, \n",
    "                                                        dec_embed_input, \n",
    "                                                        target_sequence_length,\n",
    "                                                        max_target_sequence_length,\n",
    "                                                        output_layer,\n",
    "                                                        keep_prob)\n",
    "    \n",
    "        scope.reuse_variables()\n",
    "        \n",
    "        inference_decoder_output = decoding_layer_infer(\n",
    "            encoder_state, \n",
    "            dec_cell, \n",
    "            dec_embeddings, \n",
    "            target_vocab_to_int['<GO>'],\n",
    "            target_vocab_to_int['<EOS>'], \n",
    "            max_target_sequence_length, \n",
    "            target_vocab_size,\n",
    "            output_layer, \n",
    "            batch_size, \n",
    "            keep_prob)\n",
    "    \n",
    "    \n",
    "    return training_decoder_output, inference_decoder_output\n",
    "\n",
    "\n",
    "\"\"\"\n",
    "DON'T MODIFY ANYTHING IN THIS CELL THAT IS BELOW THIS LINE\n",
    "\"\"\"\n",
    "tests.test_decoding_layer(decoding_layer)"
   ]
  },
  {
   "cell_type": "markdown",
   "metadata": {
    "deletable": true,
    "editable": true
   },
   "source": [
    "### Build the Neural Network\n",
    "Apply the functions you implemented above to:\n",
    "\n",
    "- Encode the input using your `encoding_layer(rnn_inputs, rnn_size, num_layers, keep_prob,  source_sequence_length, source_vocab_size, encoding_embedding_size)`.\n",
    "- Process target data using your `process_decoder_input(target_data, target_vocab_to_int, batch_size)` function.\n",
    "- Decode the encoded input using your `decoding_layer(dec_input, enc_state, target_sequence_length, max_target_sentence_length, rnn_size, num_layers, target_vocab_to_int, target_vocab_size, batch_size, keep_prob, dec_embedding_size)` function."
   ]
  },
  {
   "cell_type": "code",
   "execution_count": 14,
   "metadata": {
    "collapsed": false,
    "deletable": true,
    "editable": true
   },
   "outputs": [
    {
     "name": "stdout",
     "output_type": "stream",
     "text": [
      "Tests Passed\n"
     ]
    }
   ],
   "source": [
    "def seq2seq_model(input_data, target_data, keep_prob, batch_size,\n",
    "                  source_sequence_length, target_sequence_length,\n",
    "                  max_target_sentence_length,\n",
    "                  source_vocab_size, target_vocab_size,\n",
    "                  enc_embedding_size, dec_embedding_size,\n",
    "                  rnn_size, num_layers, target_vocab_to_int):\n",
    "    \"\"\"\n",
    "    Build the Sequence-to-Sequence part of the neural network\n",
    "    :param input_data: Input placeholder\n",
    "    :param target_data: Target placeholder\n",
    "    :param keep_prob: Dropout keep probability placeholder\n",
    "    :param batch_size: Batch Size\n",
    "    :param source_sequence_length: Sequence Lengths of source sequences in the batch\n",
    "    :param target_sequence_length: Sequence Lengths of target sequences in the batch\n",
    "    :param source_vocab_size: Source vocabulary size\n",
    "    :param target_vocab_size: Target vocabulary size\n",
    "    :param enc_embedding_size: Decoder embedding size\n",
    "    :param dec_embedding_size: Encoder embedding size\n",
    "    :param rnn_size: RNN Size\n",
    "    :param num_layers: Number of layers\n",
    "    :param target_vocab_to_int: Dictionary to go from the target words to an id\n",
    "    :return: Tuple of (Training BasicDecoderOutput, Inference BasicDecoderOutput)\n",
    "    \"\"\"\n",
    "    _, enc_state = encoding_layer(input_data, \n",
    "                                  rnn_size, \n",
    "                                  num_layers, \n",
    "                                  keep_prob, \n",
    "                                  source_sequence_length,\n",
    "                                  source_vocab_size, \n",
    "                                  enc_embedding_size)\n",
    "    \n",
    "    dec_input = process_decoder_input(target_data, target_vocab_to_int, batch_size)\n",
    "    \n",
    "    training_decoder_output, inference_decoder_output = decoding_layer(\n",
    "    dec_input, enc_state, target_sequence_length, max_target_sentence_length,\n",
    "    rnn_size, num_layers, target_vocab_to_int, target_vocab_size, batch_size,\n",
    "    keep_prob, dec_embedding_size)\n",
    "    \n",
    "    return training_decoder_output, inference_decoder_output\n",
    "\n",
    "\"\"\"\n",
    "DON'T MODIFY ANYTHING IN THIS CELL THAT IS BELOW THIS LINE\n",
    "\"\"\"\n",
    "tests.test_seq2seq_model(seq2seq_model)"
   ]
  },
  {
   "cell_type": "markdown",
   "metadata": {
    "deletable": true,
    "editable": true
   },
   "source": [
    "## Neural Network Training\n",
    "### Hyperparameters\n",
    "Tune the following parameters:\n",
    "\n",
    "- Set `epochs` to the number of epochs.\n",
    "- Set `batch_size` to the batch size.\n",
    "- Set `rnn_size` to the size of the RNNs.\n",
    "- Set `num_layers` to the number of layers.\n",
    "- Set `encoding_embedding_size` to the size of the embedding for the encoder.\n",
    "- Set `decoding_embedding_size` to the size of the embedding for the decoder.\n",
    "- Set `learning_rate` to the learning rate.\n",
    "- Set `keep_probability` to the Dropout keep probability\n",
    "- Set `display_step` to state how many steps between each debug output statement"
   ]
  },
  {
   "cell_type": "code",
   "execution_count": 15,
   "metadata": {
    "collapsed": true,
    "deletable": true,
    "editable": true
   },
   "outputs": [],
   "source": [
    "# Number of Epochs\n",
    "epochs = 3\n",
    "# Batch Size\n",
    "batch_size = 128\n",
    "# RNN Size\n",
    "rnn_size = 256\n",
    "# Number of Layers\n",
    "num_layers = 2\n",
    "# Embedding Size\n",
    "encoding_embedding_size = 256\n",
    "decoding_embedding_size = 256\n",
    "# Learning Rate\n",
    "learning_rate = 0.01\n",
    "# Dropout Keep Probability\n",
    "keep_probability = 0.75\n",
    "display_step = 15"
   ]
  },
  {
   "cell_type": "markdown",
   "metadata": {
    "deletable": true,
    "editable": true
   },
   "source": [
    "### Build the Graph\n",
    "Build the graph using the neural network you implemented."
   ]
  },
  {
   "cell_type": "code",
   "execution_count": 16,
   "metadata": {
    "collapsed": true,
    "deletable": true,
    "editable": true
   },
   "outputs": [],
   "source": [
    "\"\"\"\n",
    "DON'T MODIFY ANYTHING IN THIS CELL\n",
    "\"\"\"\n",
    "save_path = 'checkpoints/dev'\n",
    "(source_int_text, target_int_text), (source_vocab_to_int, target_vocab_to_int), _ = helper.load_preprocess()\n",
    "max_target_sentence_length = max([len(sentence) for sentence in source_int_text])\n",
    "\n",
    "train_graph = tf.Graph()\n",
    "with train_graph.as_default():\n",
    "    input_data, targets, lr, keep_prob, target_sequence_length, max_target_sequence_length, source_sequence_length = model_inputs()\n",
    "\n",
    "    #sequence_length = tf.placeholder_with_default(max_target_sentence_length, None, name='sequence_length')\n",
    "    input_shape = tf.shape(input_data)\n",
    "\n",
    "    train_logits, inference_logits = seq2seq_model(tf.reverse(input_data, [-1]),\n",
    "                                                   targets,\n",
    "                                                   keep_prob,\n",
    "                                                   batch_size,\n",
    "                                                   source_sequence_length,\n",
    "                                                   target_sequence_length,\n",
    "                                                   max_target_sequence_length,\n",
    "                                                   len(source_vocab_to_int),\n",
    "                                                   len(target_vocab_to_int),\n",
    "                                                   encoding_embedding_size,\n",
    "                                                   decoding_embedding_size,\n",
    "                                                   rnn_size,\n",
    "                                                   num_layers,\n",
    "                                                   target_vocab_to_int)\n",
    "\n",
    "\n",
    "    training_logits = tf.identity(train_logits.rnn_output, name='logits')\n",
    "    inference_logits = tf.identity(inference_logits.sample_id, name='predictions')\n",
    "\n",
    "    masks = tf.sequence_mask(target_sequence_length, max_target_sequence_length, dtype=tf.float32, name='masks')\n",
    "\n",
    "    with tf.name_scope(\"optimization\"):\n",
    "        # Loss function\n",
    "        cost = tf.contrib.seq2seq.sequence_loss(\n",
    "            training_logits,\n",
    "            targets,\n",
    "            masks)\n",
    "\n",
    "        # Optimizer\n",
    "        optimizer = tf.train.AdamOptimizer(lr)\n",
    "\n",
    "        # Gradient Clipping\n",
    "        gradients = optimizer.compute_gradients(cost)\n",
    "        capped_gradients = [(tf.clip_by_value(grad, -1., 1.), var) for grad, var in gradients if grad is not None]\n",
    "        train_op = optimizer.apply_gradients(capped_gradients)\n"
   ]
  },
  {
   "cell_type": "markdown",
   "metadata": {
    "deletable": true,
    "editable": true
   },
   "source": [
    "Batch and pad the source and target sequences"
   ]
  },
  {
   "cell_type": "code",
   "execution_count": 17,
   "metadata": {
    "collapsed": true,
    "deletable": true,
    "editable": true
   },
   "outputs": [],
   "source": [
    "\"\"\"\n",
    "DON'T MODIFY ANYTHING IN THIS CELL\n",
    "\"\"\"\n",
    "def pad_sentence_batch(sentence_batch, pad_int):\n",
    "    \"\"\"Pad sentences with <PAD> so that each sentence of a batch has the same length\"\"\"\n",
    "    max_sentence = max([len(sentence) for sentence in sentence_batch])\n",
    "    return [sentence + [pad_int] * (max_sentence - len(sentence)) for sentence in sentence_batch]\n",
    "\n",
    "\n",
    "def get_batches(sources, targets, batch_size, source_pad_int, target_pad_int):\n",
    "    \"\"\"Batch targets, sources, and the lengths of their sentences together\"\"\"\n",
    "    for batch_i in range(0, len(sources)//batch_size):\n",
    "        start_i = batch_i * batch_size\n",
    "\n",
    "        # Slice the right amount for the batch\n",
    "        sources_batch = sources[start_i:start_i + batch_size]\n",
    "        targets_batch = targets[start_i:start_i + batch_size]\n",
    "\n",
    "        # Pad\n",
    "        pad_sources_batch = np.array(pad_sentence_batch(sources_batch, source_pad_int))\n",
    "        pad_targets_batch = np.array(pad_sentence_batch(targets_batch, target_pad_int))\n",
    "\n",
    "        # Need the lengths for the _lengths parameters\n",
    "        pad_targets_lengths = []\n",
    "        for target in pad_targets_batch:\n",
    "            pad_targets_lengths.append(len(target))\n",
    "\n",
    "        pad_source_lengths = []\n",
    "        for source in pad_sources_batch:\n",
    "            pad_source_lengths.append(len(source))\n",
    "\n",
    "        yield pad_sources_batch, pad_targets_batch, pad_source_lengths, pad_targets_lengths\n"
   ]
  },
  {
   "cell_type": "markdown",
   "metadata": {
    "deletable": true,
    "editable": true
   },
   "source": [
    "### Train\n",
    "Train the neural network on the preprocessed data. If you have a hard time getting a good loss, check the forms to see if anyone is having the same problem."
   ]
  },
  {
   "cell_type": "code",
   "execution_count": 18,
   "metadata": {
    "collapsed": false,
    "deletable": true,
    "editable": true,
    "scrolled": true
   },
   "outputs": [
    {
     "name": "stdout",
     "output_type": "stream",
     "text": [
      "Epoch   0 Batch   15/1077 - Train Accuracy: 0.3297, Validation Accuracy: 0.3857, Loss: 3.0010\n",
      "Epoch   0 Batch   30/1077 - Train Accuracy: 0.4062, Validation Accuracy: 0.4627, Loss: 2.5549\n",
      "Epoch   0 Batch   45/1077 - Train Accuracy: 0.4496, Validation Accuracy: 0.5089, Loss: 2.2628\n",
      "Epoch   0 Batch   60/1077 - Train Accuracy: 0.5130, Validation Accuracy: 0.5391, Loss: 1.8847\n",
      "Epoch   0 Batch   75/1077 - Train Accuracy: 0.5188, Validation Accuracy: 0.5398, Loss: 1.5087\n",
      "Epoch   0 Batch   90/1077 - Train Accuracy: 0.5277, Validation Accuracy: 0.5575, Loss: 1.3434\n",
      "Epoch   0 Batch  105/1077 - Train Accuracy: 0.4984, Validation Accuracy: 0.5405, Loss: 1.0863\n",
      "Epoch   0 Batch  120/1077 - Train Accuracy: 0.5449, Validation Accuracy: 0.5795, Loss: 0.9773\n",
      "Epoch   0 Batch  135/1077 - Train Accuracy: 0.5773, Validation Accuracy: 0.5778, Loss: 0.8662\n",
      "Epoch   0 Batch  150/1077 - Train Accuracy: 0.6257, Validation Accuracy: 0.5863, Loss: 0.7420\n",
      "Epoch   0 Batch  165/1077 - Train Accuracy: 0.5844, Validation Accuracy: 0.5916, Loss: 0.7000\n",
      "Epoch   0 Batch  180/1077 - Train Accuracy: 0.6242, Validation Accuracy: 0.5866, Loss: 0.6602\n",
      "Epoch   0 Batch  195/1077 - Train Accuracy: 0.6039, Validation Accuracy: 0.6119, Loss: 0.5899\n",
      "Epoch   0 Batch  210/1077 - Train Accuracy: 0.6849, Validation Accuracy: 0.6424, Loss: 0.5594\n",
      "Epoch   0 Batch  225/1077 - Train Accuracy: 0.6445, Validation Accuracy: 0.6523, Loss: 0.5383\n",
      "Epoch   0 Batch  240/1077 - Train Accuracy: 0.7445, Validation Accuracy: 0.6531, Loss: 0.4689\n",
      "Epoch   0 Batch  255/1077 - Train Accuracy: 0.7293, Validation Accuracy: 0.6708, Loss: 0.4375\n",
      "Epoch   0 Batch  270/1077 - Train Accuracy: 0.7180, Validation Accuracy: 0.7266, Loss: 0.4250\n",
      "Epoch   0 Batch  285/1077 - Train Accuracy: 0.7582, Validation Accuracy: 0.7383, Loss: 0.3587\n",
      "Epoch   0 Batch  300/1077 - Train Accuracy: 0.8318, Validation Accuracy: 0.7614, Loss: 0.3167\n",
      "Epoch   0 Batch  315/1077 - Train Accuracy: 0.8363, Validation Accuracy: 0.7646, Loss: 0.2865\n",
      "Epoch   0 Batch  330/1077 - Train Accuracy: 0.8195, Validation Accuracy: 0.7589, Loss: 0.2827\n",
      "Epoch   0 Batch  345/1077 - Train Accuracy: 0.8315, Validation Accuracy: 0.7749, Loss: 0.2374\n",
      "Epoch   0 Batch  360/1077 - Train Accuracy: 0.8488, Validation Accuracy: 0.8040, Loss: 0.2207\n",
      "Epoch   0 Batch  375/1077 - Train Accuracy: 0.8619, Validation Accuracy: 0.8097, Loss: 0.1999\n",
      "Epoch   0 Batch  390/1077 - Train Accuracy: 0.8254, Validation Accuracy: 0.8381, Loss: 0.2195\n",
      "Epoch   0 Batch  405/1077 - Train Accuracy: 0.8396, Validation Accuracy: 0.8406, Loss: 0.1853\n",
      "Epoch   0 Batch  420/1077 - Train Accuracy: 0.9027, Validation Accuracy: 0.8665, Loss: 0.1537\n",
      "Epoch   0 Batch  435/1077 - Train Accuracy: 0.9030, Validation Accuracy: 0.8391, Loss: 0.1653\n",
      "Epoch   0 Batch  450/1077 - Train Accuracy: 0.8797, Validation Accuracy: 0.8192, Loss: 0.1401\n",
      "Epoch   0 Batch  465/1077 - Train Accuracy: 0.8894, Validation Accuracy: 0.8711, Loss: 0.1304\n",
      "Epoch   0 Batch  480/1077 - Train Accuracy: 0.8935, Validation Accuracy: 0.8562, Loss: 0.1247\n",
      "Epoch   0 Batch  495/1077 - Train Accuracy: 0.8680, Validation Accuracy: 0.8697, Loss: 0.1116\n",
      "Epoch   0 Batch  510/1077 - Train Accuracy: 0.8832, Validation Accuracy: 0.8821, Loss: 0.1062\n",
      "Epoch   0 Batch  525/1077 - Train Accuracy: 0.9152, Validation Accuracy: 0.8849, Loss: 0.0973\n",
      "Epoch   0 Batch  540/1077 - Train Accuracy: 0.8922, Validation Accuracy: 0.8473, Loss: 0.0893\n",
      "Epoch   0 Batch  555/1077 - Train Accuracy: 0.9234, Validation Accuracy: 0.8839, Loss: 0.0884\n",
      "Epoch   0 Batch  570/1077 - Train Accuracy: 0.8964, Validation Accuracy: 0.9091, Loss: 0.1070\n",
      "Epoch   0 Batch  585/1077 - Train Accuracy: 0.9156, Validation Accuracy: 0.8903, Loss: 0.0665\n",
      "Epoch   0 Batch  600/1077 - Train Accuracy: 0.9282, Validation Accuracy: 0.9002, Loss: 0.0792\n",
      "Epoch   0 Batch  615/1077 - Train Accuracy: 0.9207, Validation Accuracy: 0.9148, Loss: 0.0734\n",
      "Epoch   0 Batch  630/1077 - Train Accuracy: 0.9473, Validation Accuracy: 0.9158, Loss: 0.0641\n",
      "Epoch   0 Batch  645/1077 - Train Accuracy: 0.9386, Validation Accuracy: 0.9109, Loss: 0.0826\n",
      "Epoch   0 Batch  660/1077 - Train Accuracy: 0.9465, Validation Accuracy: 0.8867, Loss: 0.0674\n",
      "Epoch   0 Batch  675/1077 - Train Accuracy: 0.9059, Validation Accuracy: 0.8928, Loss: 0.0810\n",
      "Epoch   0 Batch  690/1077 - Train Accuracy: 0.9078, Validation Accuracy: 0.9205, Loss: 0.0629\n",
      "Epoch   0 Batch  705/1077 - Train Accuracy: 0.9486, Validation Accuracy: 0.9087, Loss: 0.0777\n",
      "Epoch   0 Batch  720/1077 - Train Accuracy: 0.9079, Validation Accuracy: 0.9233, Loss: 0.0666\n",
      "Epoch   0 Batch  735/1077 - Train Accuracy: 0.9262, Validation Accuracy: 0.9027, Loss: 0.0613\n",
      "Epoch   0 Batch  750/1077 - Train Accuracy: 0.9414, Validation Accuracy: 0.9325, Loss: 0.0586\n",
      "Epoch   0 Batch  765/1077 - Train Accuracy: 0.9270, Validation Accuracy: 0.9126, Loss: 0.0691\n",
      "Epoch   0 Batch  780/1077 - Train Accuracy: 0.8914, Validation Accuracy: 0.9215, Loss: 0.0792\n",
      "Epoch   0 Batch  795/1077 - Train Accuracy: 0.9195, Validation Accuracy: 0.9293, Loss: 0.0684\n",
      "Epoch   0 Batch  810/1077 - Train Accuracy: 0.9408, Validation Accuracy: 0.9190, Loss: 0.0446\n",
      "Epoch   0 Batch  825/1077 - Train Accuracy: 0.9563, Validation Accuracy: 0.9119, Loss: 0.0457\n",
      "Epoch   0 Batch  840/1077 - Train Accuracy: 0.9344, Validation Accuracy: 0.9027, Loss: 0.0464\n",
      "Epoch   0 Batch  855/1077 - Train Accuracy: 0.9324, Validation Accuracy: 0.9219, Loss: 0.0508\n",
      "Epoch   0 Batch  870/1077 - Train Accuracy: 0.9272, Validation Accuracy: 0.9268, Loss: 0.0508\n",
      "Epoch   0 Batch  885/1077 - Train Accuracy: 0.9357, Validation Accuracy: 0.9183, Loss: 0.0404\n",
      "Epoch   0 Batch  900/1077 - Train Accuracy: 0.9504, Validation Accuracy: 0.9233, Loss: 0.0532\n",
      "Epoch   0 Batch  915/1077 - Train Accuracy: 0.9248, Validation Accuracy: 0.9173, Loss: 0.0469\n",
      "Epoch   0 Batch  930/1077 - Train Accuracy: 0.9477, Validation Accuracy: 0.9119, Loss: 0.0414\n",
      "Epoch   0 Batch  945/1077 - Train Accuracy: 0.9539, Validation Accuracy: 0.9258, Loss: 0.0414\n",
      "Epoch   0 Batch  960/1077 - Train Accuracy: 0.9487, Validation Accuracy: 0.9308, Loss: 0.0448\n",
      "Epoch   0 Batch  975/1077 - Train Accuracy: 0.9531, Validation Accuracy: 0.9112, Loss: 0.0391\n",
      "Epoch   0 Batch  990/1077 - Train Accuracy: 0.9474, Validation Accuracy: 0.9268, Loss: 0.0499\n",
      "Epoch   0 Batch 1005/1077 - Train Accuracy: 0.9590, Validation Accuracy: 0.9325, Loss: 0.0376\n",
      "Epoch   0 Batch 1020/1077 - Train Accuracy: 0.9543, Validation Accuracy: 0.9080, Loss: 0.0354\n",
      "Epoch   0 Batch 1035/1077 - Train Accuracy: 0.9591, Validation Accuracy: 0.9062, Loss: 0.0302\n",
      "Epoch   0 Batch 1050/1077 - Train Accuracy: 0.9602, Validation Accuracy: 0.9361, Loss: 0.0359\n",
      "Epoch   0 Batch 1065/1077 - Train Accuracy: 0.9613, Validation Accuracy: 0.9375, Loss: 0.0408\n",
      "Epoch   1 Batch   15/1077 - Train Accuracy: 0.9746, Validation Accuracy: 0.9354, Loss: 0.0403\n",
      "Epoch   1 Batch   30/1077 - Train Accuracy: 0.9480, Validation Accuracy: 0.9187, Loss: 0.0354\n",
      "Epoch   1 Batch   45/1077 - Train Accuracy: 0.9520, Validation Accuracy: 0.9339, Loss: 0.0417\n",
      "Epoch   1 Batch   60/1077 - Train Accuracy: 0.9516, Validation Accuracy: 0.8821, Loss: 0.0343\n",
      "Epoch   1 Batch   75/1077 - Train Accuracy: 0.9508, Validation Accuracy: 0.9343, Loss: 0.0642\n",
      "Epoch   1 Batch   90/1077 - Train Accuracy: 0.9563, Validation Accuracy: 0.9393, Loss: 0.0387\n",
      "Epoch   1 Batch  105/1077 - Train Accuracy: 0.9629, Validation Accuracy: 0.9393, Loss: 0.0348\n",
      "Epoch   1 Batch  120/1077 - Train Accuracy: 0.9543, Validation Accuracy: 0.9379, Loss: 0.0494\n",
      "Epoch   1 Batch  135/1077 - Train Accuracy: 0.9490, Validation Accuracy: 0.9094, Loss: 0.0375\n",
      "Epoch   1 Batch  150/1077 - Train Accuracy: 0.9401, Validation Accuracy: 0.9474, Loss: 0.0353\n",
      "Epoch   1 Batch  165/1077 - Train Accuracy: 0.9445, Validation Accuracy: 0.9361, Loss: 0.0356\n",
      "Epoch   1 Batch  180/1077 - Train Accuracy: 0.9477, Validation Accuracy: 0.9354, Loss: 0.0340\n",
      "Epoch   1 Batch  195/1077 - Train Accuracy: 0.9379, Validation Accuracy: 0.9041, Loss: 0.0341\n",
      "Epoch   1 Batch  210/1077 - Train Accuracy: 0.9501, Validation Accuracy: 0.9258, Loss: 0.0471\n",
      "Epoch   1 Batch  225/1077 - Train Accuracy: 0.9500, Validation Accuracy: 0.9173, Loss: 0.0475\n",
      "Epoch   1 Batch  240/1077 - Train Accuracy: 0.9613, Validation Accuracy: 0.9535, Loss: 0.0360\n",
      "Epoch   1 Batch  255/1077 - Train Accuracy: 0.9547, Validation Accuracy: 0.9386, Loss: 0.0317\n",
      "Epoch   1 Batch  270/1077 - Train Accuracy: 0.9543, Validation Accuracy: 0.9450, Loss: 0.0342\n",
      "Epoch   1 Batch  285/1077 - Train Accuracy: 0.9684, Validation Accuracy: 0.9400, Loss: 0.0391\n",
      "Epoch   1 Batch  300/1077 - Train Accuracy: 0.9515, Validation Accuracy: 0.9102, Loss: 0.0324\n",
      "Epoch   1 Batch  315/1077 - Train Accuracy: 0.9691, Validation Accuracy: 0.9229, Loss: 0.0338\n",
      "Epoch   1 Batch  330/1077 - Train Accuracy: 0.9613, Validation Accuracy: 0.9265, Loss: 0.0386\n",
      "Epoch   1 Batch  345/1077 - Train Accuracy: 0.9360, Validation Accuracy: 0.9393, Loss: 0.0375\n",
      "Epoch   1 Batch  360/1077 - Train Accuracy: 0.9812, Validation Accuracy: 0.9386, Loss: 0.0274\n",
      "Epoch   1 Batch  375/1077 - Train Accuracy: 0.9780, Validation Accuracy: 0.9297, Loss: 0.0343\n",
      "Epoch   1 Batch  390/1077 - Train Accuracy: 0.9348, Validation Accuracy: 0.9258, Loss: 0.0457\n",
      "Epoch   1 Batch  405/1077 - Train Accuracy: 0.9519, Validation Accuracy: 0.9229, Loss: 0.0395\n",
      "Epoch   1 Batch  420/1077 - Train Accuracy: 0.9789, Validation Accuracy: 0.9354, Loss: 0.0243\n",
      "Epoch   1 Batch  435/1077 - Train Accuracy: 0.9762, Validation Accuracy: 0.9215, Loss: 0.0461\n",
      "Epoch   1 Batch  450/1077 - Train Accuracy: 0.9543, Validation Accuracy: 0.9403, Loss: 0.0339\n",
      "Epoch   1 Batch  465/1077 - Train Accuracy: 0.9564, Validation Accuracy: 0.9261, Loss: 0.0386\n",
      "Epoch   1 Batch  480/1077 - Train Accuracy: 0.9437, Validation Accuracy: 0.9386, Loss: 0.0379\n",
      "Epoch   1 Batch  495/1077 - Train Accuracy: 0.9258, Validation Accuracy: 0.9435, Loss: 0.0365\n",
      "Epoch   1 Batch  510/1077 - Train Accuracy: 0.9363, Validation Accuracy: 0.9343, Loss: 0.0426\n",
      "Epoch   1 Batch  525/1077 - Train Accuracy: 0.9449, Validation Accuracy: 0.9276, Loss: 0.0420\n",
      "Epoch   1 Batch  540/1077 - Train Accuracy: 0.9434, Validation Accuracy: 0.9389, Loss: 0.0303\n",
      "Epoch   1 Batch  555/1077 - Train Accuracy: 0.9605, Validation Accuracy: 0.9332, Loss: 0.0310\n",
      "Epoch   1 Batch  570/1077 - Train Accuracy: 0.9186, Validation Accuracy: 0.9418, Loss: 0.0514\n",
      "Epoch   1 Batch  585/1077 - Train Accuracy: 0.9747, Validation Accuracy: 0.9386, Loss: 0.0228\n",
      "Epoch   1 Batch  600/1077 - Train Accuracy: 0.9513, Validation Accuracy: 0.9574, Loss: 0.0417\n",
      "Epoch   1 Batch  615/1077 - Train Accuracy: 0.9676, Validation Accuracy: 0.9592, Loss: 0.0285\n",
      "Epoch   1 Batch  630/1077 - Train Accuracy: 0.9527, Validation Accuracy: 0.9602, Loss: 0.0335\n",
      "Epoch   1 Batch  645/1077 - Train Accuracy: 0.9513, Validation Accuracy: 0.9535, Loss: 0.0414\n",
      "Epoch   1 Batch  660/1077 - Train Accuracy: 0.9664, Validation Accuracy: 0.9268, Loss: 0.0302\n",
      "Epoch   1 Batch  675/1077 - Train Accuracy: 0.9353, Validation Accuracy: 0.9371, Loss: 0.0435\n",
      "Epoch   1 Batch  690/1077 - Train Accuracy: 0.9617, Validation Accuracy: 0.9339, Loss: 0.0326\n",
      "Epoch   1 Batch  705/1077 - Train Accuracy: 0.9585, Validation Accuracy: 0.9304, Loss: 0.0471\n",
      "Epoch   1 Batch  720/1077 - Train Accuracy: 0.9482, Validation Accuracy: 0.9574, Loss: 0.0351\n",
      "Epoch   1 Batch  735/1077 - Train Accuracy: 0.9520, Validation Accuracy: 0.9304, Loss: 0.0309\n",
      "Epoch   1 Batch  750/1077 - Train Accuracy: 0.9457, Validation Accuracy: 0.9293, Loss: 0.0333\n",
      "Epoch   1 Batch  765/1077 - Train Accuracy: 0.9418, Validation Accuracy: 0.9386, Loss: 0.0483\n",
      "Epoch   1 Batch  780/1077 - Train Accuracy: 0.9297, Validation Accuracy: 0.9304, Loss: 0.0461\n",
      "Epoch   1 Batch  795/1077 - Train Accuracy: 0.9449, Validation Accuracy: 0.9599, Loss: 0.0408\n",
      "Epoch   1 Batch  810/1077 - Train Accuracy: 0.9688, Validation Accuracy: 0.9531, Loss: 0.0197\n",
      "Epoch   1 Batch  825/1077 - Train Accuracy: 0.9723, Validation Accuracy: 0.9339, Loss: 0.0234\n",
      "Epoch   1 Batch  840/1077 - Train Accuracy: 0.9656, Validation Accuracy: 0.9513, Loss: 0.0238\n",
      "Epoch   1 Batch  855/1077 - Train Accuracy: 0.9656, Validation Accuracy: 0.9364, Loss: 0.0277\n",
      "Epoch   1 Batch  870/1077 - Train Accuracy: 0.9568, Validation Accuracy: 0.9446, Loss: 0.0295\n",
      "Epoch   1 Batch  885/1077 - Train Accuracy: 0.9652, Validation Accuracy: 0.9489, Loss: 0.0230\n",
      "Epoch   1 Batch  900/1077 - Train Accuracy: 0.9711, Validation Accuracy: 0.9517, Loss: 0.0339\n",
      "Epoch   1 Batch  915/1077 - Train Accuracy: 0.9359, Validation Accuracy: 0.9354, Loss: 0.0325\n",
      "Epoch   1 Batch  930/1077 - Train Accuracy: 0.9535, Validation Accuracy: 0.9297, Loss: 0.0248\n",
      "Epoch   1 Batch  945/1077 - Train Accuracy: 0.9734, Validation Accuracy: 0.9315, Loss: 0.0288\n",
      "Epoch   1 Batch  960/1077 - Train Accuracy: 0.9520, Validation Accuracy: 0.9283, Loss: 0.0318\n",
      "Epoch   1 Batch  975/1077 - Train Accuracy: 0.9851, Validation Accuracy: 0.9464, Loss: 0.0260\n",
      "Epoch   1 Batch  990/1077 - Train Accuracy: 0.9642, Validation Accuracy: 0.9492, Loss: 0.0309\n",
      "Epoch   1 Batch 1005/1077 - Train Accuracy: 0.9602, Validation Accuracy: 0.9361, Loss: 0.0289\n",
      "Epoch   1 Batch 1020/1077 - Train Accuracy: 0.9918, Validation Accuracy: 0.9297, Loss: 0.0228\n",
      "Epoch   1 Batch 1035/1077 - Train Accuracy: 0.9747, Validation Accuracy: 0.9499, Loss: 0.0185\n",
      "Epoch   1 Batch 1050/1077 - Train Accuracy: 0.9848, Validation Accuracy: 0.9542, Loss: 0.0203\n",
      "Epoch   1 Batch 1065/1077 - Train Accuracy: 0.9738, Validation Accuracy: 0.9474, Loss: 0.0281\n",
      "Epoch   2 Batch   15/1077 - Train Accuracy: 0.9656, Validation Accuracy: 0.9492, Loss: 0.0274\n",
      "Epoch   2 Batch   30/1077 - Train Accuracy: 0.9688, Validation Accuracy: 0.9364, Loss: 0.0247\n",
      "Epoch   2 Batch   45/1077 - Train Accuracy: 0.9453, Validation Accuracy: 0.9517, Loss: 0.0277\n",
      "Epoch   2 Batch   60/1077 - Train Accuracy: 0.9821, Validation Accuracy: 0.9503, Loss: 0.0191\n",
      "Epoch   2 Batch   75/1077 - Train Accuracy: 0.9406, Validation Accuracy: 0.9510, Loss: 0.0441\n",
      "Epoch   2 Batch   90/1077 - Train Accuracy: 0.9719, Validation Accuracy: 0.9485, Loss: 0.0202\n",
      "Epoch   2 Batch  105/1077 - Train Accuracy: 0.9594, Validation Accuracy: 0.9215, Loss: 0.0282\n",
      "Epoch   2 Batch  120/1077 - Train Accuracy: 0.9594, Validation Accuracy: 0.9691, Loss: 0.0338\n",
      "Epoch   2 Batch  135/1077 - Train Accuracy: 0.9671, Validation Accuracy: 0.9272, Loss: 0.0311\n",
      "Epoch   2 Batch  150/1077 - Train Accuracy: 0.9632, Validation Accuracy: 0.9418, Loss: 0.0273\n",
      "Epoch   2 Batch  165/1077 - Train Accuracy: 0.9762, Validation Accuracy: 0.9400, Loss: 0.0319\n",
      "Epoch   2 Batch  180/1077 - Train Accuracy: 0.9453, Validation Accuracy: 0.9297, Loss: 0.0206\n",
      "Epoch   2 Batch  195/1077 - Train Accuracy: 0.9688, Validation Accuracy: 0.9435, Loss: 0.0198\n",
      "Epoch   2 Batch  210/1077 - Train Accuracy: 0.9617, Validation Accuracy: 0.9499, Loss: 0.0322\n",
      "Epoch   2 Batch  225/1077 - Train Accuracy: 0.9617, Validation Accuracy: 0.9205, Loss: 0.0337\n",
      "Epoch   2 Batch  240/1077 - Train Accuracy: 0.9660, Validation Accuracy: 0.9343, Loss: 0.0237\n",
      "Epoch   2 Batch  255/1077 - Train Accuracy: 0.9699, Validation Accuracy: 0.9460, Loss: 0.0219\n",
      "Epoch   2 Batch  270/1077 - Train Accuracy: 0.9586, Validation Accuracy: 0.9315, Loss: 0.0314\n",
      "Epoch   2 Batch  285/1077 - Train Accuracy: 0.9647, Validation Accuracy: 0.9293, Loss: 0.0326\n",
      "Epoch   2 Batch  300/1077 - Train Accuracy: 0.9733, Validation Accuracy: 0.9112, Loss: 0.0243\n",
      "Epoch   2 Batch  315/1077 - Train Accuracy: 0.9650, Validation Accuracy: 0.9215, Loss: 0.0279\n",
      "Epoch   2 Batch  330/1077 - Train Accuracy: 0.9617, Validation Accuracy: 0.9318, Loss: 0.0338\n",
      "Epoch   2 Batch  345/1077 - Train Accuracy: 0.9539, Validation Accuracy: 0.9354, Loss: 0.0248\n",
      "Epoch   2 Batch  360/1077 - Train Accuracy: 0.9785, Validation Accuracy: 0.9354, Loss: 0.0236\n",
      "Epoch   2 Batch  375/1077 - Train Accuracy: 0.9787, Validation Accuracy: 0.9371, Loss: 0.0299\n",
      "Epoch   2 Batch  390/1077 - Train Accuracy: 0.9355, Validation Accuracy: 0.9268, Loss: 0.0428\n",
      "Epoch   2 Batch  405/1077 - Train Accuracy: 0.9301, Validation Accuracy: 0.9112, Loss: 0.0291\n",
      "Epoch   2 Batch  420/1077 - Train Accuracy: 0.9852, Validation Accuracy: 0.9489, Loss: 0.0157\n",
      "Epoch   2 Batch  435/1077 - Train Accuracy: 0.9725, Validation Accuracy: 0.9300, Loss: 0.0341\n",
      "Epoch   2 Batch  450/1077 - Train Accuracy: 0.9488, Validation Accuracy: 0.9251, Loss: 0.0384\n",
      "Epoch   2 Batch  465/1077 - Train Accuracy: 0.9655, Validation Accuracy: 0.9283, Loss: 0.0300\n",
      "Epoch   2 Batch  480/1077 - Train Accuracy: 0.9486, Validation Accuracy: 0.9418, Loss: 0.0269\n",
      "Epoch   2 Batch  495/1077 - Train Accuracy: 0.9336, Validation Accuracy: 0.9347, Loss: 0.0328\n",
      "Epoch   2 Batch  510/1077 - Train Accuracy: 0.9563, Validation Accuracy: 0.9400, Loss: 0.0311\n",
      "Epoch   2 Batch  525/1077 - Train Accuracy: 0.9348, Validation Accuracy: 0.9425, Loss: 0.0386\n",
      "Epoch   2 Batch  540/1077 - Train Accuracy: 0.9500, Validation Accuracy: 0.9531, Loss: 0.0245\n",
      "Epoch   2 Batch  555/1077 - Train Accuracy: 0.9707, Validation Accuracy: 0.9549, Loss: 0.0216\n",
      "Epoch   2 Batch  570/1077 - Train Accuracy: 0.9531, Validation Accuracy: 0.9503, Loss: 0.0330\n",
      "Epoch   2 Batch  585/1077 - Train Accuracy: 0.9565, Validation Accuracy: 0.9492, Loss: 0.0219\n",
      "Epoch   2 Batch  600/1077 - Train Accuracy: 0.9606, Validation Accuracy: 0.9560, Loss: 0.0377\n",
      "Epoch   2 Batch  615/1077 - Train Accuracy: 0.9711, Validation Accuracy: 0.9482, Loss: 0.0201\n",
      "Epoch   2 Batch  630/1077 - Train Accuracy: 0.9734, Validation Accuracy: 0.9379, Loss: 0.0294\n",
      "Epoch   2 Batch  645/1077 - Train Accuracy: 0.9769, Validation Accuracy: 0.9609, Loss: 0.0297\n",
      "Epoch   2 Batch  660/1077 - Train Accuracy: 0.9789, Validation Accuracy: 0.9254, Loss: 0.0224\n",
      "Epoch   2 Batch  675/1077 - Train Accuracy: 0.9438, Validation Accuracy: 0.9332, Loss: 0.0399\n",
      "Epoch   2 Batch  690/1077 - Train Accuracy: 0.9633, Validation Accuracy: 0.9499, Loss: 0.0267\n",
      "Epoch   2 Batch  705/1077 - Train Accuracy: 0.9511, Validation Accuracy: 0.9119, Loss: 0.0407\n",
      "Epoch   2 Batch  720/1077 - Train Accuracy: 0.9568, Validation Accuracy: 0.9432, Loss: 0.0312\n",
      "Epoch   2 Batch  735/1077 - Train Accuracy: 0.9551, Validation Accuracy: 0.9368, Loss: 0.0286\n",
      "Epoch   2 Batch  750/1077 - Train Accuracy: 0.9598, Validation Accuracy: 0.9460, Loss: 0.0316\n",
      "Epoch   2 Batch  765/1077 - Train Accuracy: 0.9688, Validation Accuracy: 0.9542, Loss: 0.0316\n",
      "Epoch   2 Batch  780/1077 - Train Accuracy: 0.9586, Validation Accuracy: 0.9084, Loss: 0.0402\n",
      "Epoch   2 Batch  795/1077 - Train Accuracy: 0.9660, Validation Accuracy: 0.9627, Loss: 0.0310\n",
      "Epoch   2 Batch  810/1077 - Train Accuracy: 0.9855, Validation Accuracy: 0.9414, Loss: 0.0168\n",
      "Epoch   2 Batch  825/1077 - Train Accuracy: 0.9863, Validation Accuracy: 0.8988, Loss: 0.0187\n",
      "Epoch   2 Batch  840/1077 - Train Accuracy: 0.9691, Validation Accuracy: 0.9450, Loss: 0.0214\n",
      "Epoch   2 Batch  855/1077 - Train Accuracy: 0.9473, Validation Accuracy: 0.9560, Loss: 0.0313\n",
      "Epoch   2 Batch  870/1077 - Train Accuracy: 0.9445, Validation Accuracy: 0.9403, Loss: 0.0265\n",
      "Epoch   2 Batch  885/1077 - Train Accuracy: 0.9698, Validation Accuracy: 0.9339, Loss: 0.0166\n",
      "Epoch   2 Batch  900/1077 - Train Accuracy: 0.9746, Validation Accuracy: 0.9574, Loss: 0.0285\n",
      "Epoch   2 Batch  915/1077 - Train Accuracy: 0.9560, Validation Accuracy: 0.9439, Loss: 0.0268\n",
      "Epoch   2 Batch  930/1077 - Train Accuracy: 0.9777, Validation Accuracy: 0.9357, Loss: 0.0276\n",
      "Epoch   2 Batch  945/1077 - Train Accuracy: 0.9812, Validation Accuracy: 0.9357, Loss: 0.0261\n",
      "Epoch   2 Batch  960/1077 - Train Accuracy: 0.9673, Validation Accuracy: 0.9180, Loss: 0.0316\n",
      "Epoch   2 Batch  975/1077 - Train Accuracy: 0.9613, Validation Accuracy: 0.9489, Loss: 0.0286\n",
      "Epoch   2 Batch  990/1077 - Train Accuracy: 0.9766, Validation Accuracy: 0.9386, Loss: 0.0375\n",
      "Epoch   2 Batch 1005/1077 - Train Accuracy: 0.9563, Validation Accuracy: 0.9322, Loss: 0.0247\n",
      "Epoch   2 Batch 1020/1077 - Train Accuracy: 0.9770, Validation Accuracy: 0.9453, Loss: 0.0224\n",
      "Epoch   2 Batch 1035/1077 - Train Accuracy: 0.9799, Validation Accuracy: 0.9407, Loss: 0.0162\n",
      "Epoch   2 Batch 1050/1077 - Train Accuracy: 0.9676, Validation Accuracy: 0.9482, Loss: 0.0227\n",
      "Epoch   2 Batch 1065/1077 - Train Accuracy: 0.9734, Validation Accuracy: 0.9780, Loss: 0.0269\n",
      "Model Trained and Saved\n"
     ]
    }
   ],
   "source": [
    "\"\"\"\n",
    "DON'T MODIFY ANYTHING IN THIS CELL\n",
    "\"\"\"\n",
    "def get_accuracy(target, logits):\n",
    "    \"\"\"\n",
    "    Calculate accuracy\n",
    "    \"\"\"\n",
    "    max_seq = max(target.shape[1], logits.shape[1])\n",
    "    if max_seq - target.shape[1]:\n",
    "        target = np.pad(\n",
    "            target,\n",
    "            [(0,0),(0,max_seq - target.shape[1])],\n",
    "            'constant')\n",
    "    if max_seq - logits.shape[1]:\n",
    "        logits = np.pad(\n",
    "            logits,\n",
    "            [(0,0),(0,max_seq - logits.shape[1])],\n",
    "            'constant')\n",
    "\n",
    "    return np.mean(np.equal(target, logits))\n",
    "\n",
    "# Split data to training and validation sets\n",
    "train_source = source_int_text[batch_size:]\n",
    "train_target = target_int_text[batch_size:]\n",
    "valid_source = source_int_text[:batch_size]\n",
    "valid_target = target_int_text[:batch_size]\n",
    "(valid_sources_batch, valid_targets_batch, valid_sources_lengths, valid_targets_lengths ) = next(get_batches(valid_source,\n",
    "                                                                                                             valid_target,\n",
    "                                                                                                             batch_size,\n",
    "                                                                                                             source_vocab_to_int['<PAD>'],\n",
    "                                                                                                             target_vocab_to_int['<PAD>']))                                                                                                  \n",
    "with tf.Session(graph=train_graph) as sess:\n",
    "    sess.run(tf.global_variables_initializer())\n",
    "\n",
    "    for epoch_i in range(epochs):\n",
    "        for batch_i, (source_batch, target_batch, sources_lengths, targets_lengths) in enumerate(\n",
    "                get_batches(train_source, train_target, batch_size,\n",
    "                            source_vocab_to_int['<PAD>'],\n",
    "                            target_vocab_to_int['<PAD>'])):\n",
    "\n",
    "            _, loss = sess.run(\n",
    "                [train_op, cost],\n",
    "                {input_data: source_batch,\n",
    "                 targets: target_batch,\n",
    "                 lr: learning_rate,\n",
    "                 target_sequence_length: targets_lengths,\n",
    "                 source_sequence_length: sources_lengths,\n",
    "                 keep_prob: keep_probability})\n",
    "\n",
    "\n",
    "            if batch_i % display_step == 0 and batch_i > 0:\n",
    "\n",
    "\n",
    "                batch_train_logits = sess.run(\n",
    "                    inference_logits,\n",
    "                    {input_data: source_batch,\n",
    "                     source_sequence_length: sources_lengths,\n",
    "                     target_sequence_length: targets_lengths,\n",
    "                     keep_prob: 1.0})\n",
    "\n",
    "\n",
    "                batch_valid_logits = sess.run(\n",
    "                    inference_logits,\n",
    "                    {input_data: valid_sources_batch,\n",
    "                     source_sequence_length: valid_sources_lengths,\n",
    "                     target_sequence_length: valid_targets_lengths,\n",
    "                     keep_prob: 1.0})\n",
    "\n",
    "                train_acc = get_accuracy(target_batch, batch_train_logits)\n",
    "\n",
    "                valid_acc = get_accuracy(valid_targets_batch, batch_valid_logits)\n",
    "\n",
    "                print('Epoch {:>3} Batch {:>4}/{} - Train Accuracy: {:>6.4f}, Validation Accuracy: {:>6.4f}, Loss: {:>6.4f}'\n",
    "                      .format(epoch_i, batch_i, len(source_int_text) // batch_size, train_acc, valid_acc, loss))\n",
    "\n",
    "    # Save Model\n",
    "    saver = tf.train.Saver()\n",
    "    saver.save(sess, save_path)\n",
    "    print('Model Trained and Saved')"
   ]
  },
  {
   "cell_type": "markdown",
   "metadata": {
    "deletable": true,
    "editable": true
   },
   "source": [
    "### Save Parameters\n",
    "Save the `batch_size` and `save_path` parameters for inference."
   ]
  },
  {
   "cell_type": "code",
   "execution_count": 19,
   "metadata": {
    "collapsed": true,
    "deletable": true,
    "editable": true
   },
   "outputs": [],
   "source": [
    "\"\"\"\n",
    "DON'T MODIFY ANYTHING IN THIS CELL\n",
    "\"\"\"\n",
    "# Save parameters for checkpoint\n",
    "helper.save_params(save_path)"
   ]
  },
  {
   "cell_type": "markdown",
   "metadata": {
    "deletable": true,
    "editable": true
   },
   "source": [
    "# Checkpoint"
   ]
  },
  {
   "cell_type": "code",
   "execution_count": 20,
   "metadata": {
    "collapsed": true,
    "deletable": true,
    "editable": true
   },
   "outputs": [],
   "source": [
    "\"\"\"\n",
    "DON'T MODIFY ANYTHING IN THIS CELL\n",
    "\"\"\"\n",
    "import tensorflow as tf\n",
    "import numpy as np\n",
    "import helper\n",
    "import problem_unittests as tests\n",
    "\n",
    "_, (source_vocab_to_int, target_vocab_to_int), (source_int_to_vocab, target_int_to_vocab) = helper.load_preprocess()\n",
    "load_path = helper.load_params()"
   ]
  },
  {
   "cell_type": "markdown",
   "metadata": {
    "deletable": true,
    "editable": true
   },
   "source": [
    "## Sentence to Sequence\n",
    "To feed a sentence into the model for translation, you first need to preprocess it.  Implement the function `sentence_to_seq()` to preprocess new sentences.\n",
    "\n",
    "- Convert the sentence to lowercase\n",
    "- Convert words into ids using `vocab_to_int`\n",
    " - Convert words not in the vocabulary, to the `<UNK>` word id."
   ]
  },
  {
   "cell_type": "code",
   "execution_count": 21,
   "metadata": {
    "collapsed": false,
    "deletable": true,
    "editable": true
   },
   "outputs": [
    {
     "name": "stdout",
     "output_type": "stream",
     "text": [
      "Tests Passed\n"
     ]
    }
   ],
   "source": [
    "def sentence_to_seq(sentence, vocab_to_int):\n",
    "    \"\"\"\n",
    "    Convert a sentence to a sequence of ids\n",
    "    :param sentence: String\n",
    "    :param vocab_to_int: Dictionary to go from the words to an id\n",
    "    :return: List of word ids\n",
    "    \"\"\"\n",
    "    # TODO: Implement Function\n",
    "    sen = sentence.lower()\n",
    "    \n",
    "    input_seq = [vocab_to_int.get(word, vocab_to_int['<UNK>']) for word in sentence.split()]\n",
    "    \n",
    "    return input_seq\n",
    "\n",
    "\"\"\"\n",
    "DON'T MODIFY ANYTHING IN THIS CELL THAT IS BELOW THIS LINE\n",
    "\"\"\"\n",
    "tests.test_sentence_to_seq(sentence_to_seq)"
   ]
  },
  {
   "cell_type": "markdown",
   "metadata": {
    "deletable": true,
    "editable": true
   },
   "source": [
    "## Translate\n",
    "This will translate `translate_sentence` from English to French."
   ]
  },
  {
   "cell_type": "code",
   "execution_count": 22,
   "metadata": {
    "collapsed": false,
    "deletable": true,
    "editable": true
   },
   "outputs": [
    {
     "name": "stdout",
     "output_type": "stream",
     "text": [
      "INFO:tensorflow:Restoring parameters from checkpoints/dev\n",
      "Input\n",
      "  Word Ids:      [213, 139, 75, 125, 102, 71, 34]\n",
      "  English Words: ['he', 'saw', 'a', 'old', 'yellow', 'truck', '.']\n",
      "\n",
      "Prediction\n",
      "  Word Ids:      [356, 230, 249, 201, 180, 212, 90, 205, 1]\n",
      "  French Words: il a vu une vieille voiture jaune . <EOS>\n"
     ]
    }
   ],
   "source": [
    "translate_sentence = 'he saw a old yellow truck .'\n",
    "\n",
    "\n",
    "\"\"\"\n",
    "DON'T MODIFY ANYTHING IN THIS CELL\n",
    "\"\"\"\n",
    "translate_sentence = sentence_to_seq(translate_sentence, source_vocab_to_int)\n",
    "\n",
    "loaded_graph = tf.Graph()\n",
    "with tf.Session(graph=loaded_graph) as sess:\n",
    "    # Load saved model\n",
    "    loader = tf.train.import_meta_graph(load_path + '.meta')\n",
    "    loader.restore(sess, load_path)\n",
    "\n",
    "    input_data = loaded_graph.get_tensor_by_name('input:0')\n",
    "    logits = loaded_graph.get_tensor_by_name('predictions:0')\n",
    "    target_sequence_length = loaded_graph.get_tensor_by_name('target_sequence_length:0')\n",
    "    source_sequence_length = loaded_graph.get_tensor_by_name('source_sequence_length:0')\n",
    "    keep_prob = loaded_graph.get_tensor_by_name('keep_prob:0')\n",
    "\n",
    "    translate_logits = sess.run(logits, {input_data: [translate_sentence]*batch_size,\n",
    "                                         target_sequence_length: [len(translate_sentence)*2]*batch_size,\n",
    "                                         source_sequence_length: [len(translate_sentence)]*batch_size,\n",
    "                                         keep_prob: 1.0})[0]\n",
    "\n",
    "print('Input')\n",
    "print('  Word Ids:      {}'.format([i for i in translate_sentence]))\n",
    "print('  English Words: {}'.format([source_int_to_vocab[i] for i in translate_sentence]))\n",
    "\n",
    "print('\\nPrediction')\n",
    "print('  Word Ids:      {}'.format([i for i in translate_logits]))\n",
    "print('  French Words: {}'.format(\" \".join([target_int_to_vocab[i] for i in translate_logits])))\n"
   ]
  },
  {
   "cell_type": "markdown",
   "metadata": {
    "deletable": true,
    "editable": true
   },
   "source": [
    "## Imperfect Translation\n",
    "You might notice that some sentences translate better than others.  Since the dataset you're using only has a vocabulary of 227 English words of the thousands that you use, you're only going to see good results using these words.  For this project, you don't need a perfect translation. However, if you want to create a better translation model, you'll need better data.\n",
    "\n",
    "You can train on the [WMT10 French-English corpus](http://www.statmt.org/wmt10/training-giga-fren.tar).  This dataset has more vocabulary and richer in topics discussed.  However, this will take you days to train, so make sure you've a GPU and the neural network is performing well on dataset we provided.  Just make sure you play with the WMT10 corpus after you've submitted this project.\n",
    "## Submitting This Project\n",
    "When submitting this project, make sure to run all the cells before saving the notebook. Save the notebook file as \"dlnd_language_translation.ipynb\" and save it as a HTML file under \"File\" -> \"Download as\". Include the \"helper.py\" and \"problem_unittests.py\" files in your submission."
   ]
  }
 ],
 "metadata": {
  "anaconda-cloud": {},
  "kernelspec": {
   "display_name": "Python 3",
   "language": "python",
   "name": "python3"
  },
  "language_info": {
   "codemirror_mode": {
    "name": "ipython",
    "version": 3
   },
   "file_extension": ".py",
   "mimetype": "text/x-python",
   "name": "python",
   "nbconvert_exporter": "python",
   "pygments_lexer": "ipython3",
   "version": "3.5.2"
  },
  "widgets": {
   "state": {},
   "version": "1.1.2"
  }
 },
 "nbformat": 4,
 "nbformat_minor": 1
}
