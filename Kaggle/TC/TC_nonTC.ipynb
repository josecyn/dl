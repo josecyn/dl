{
  "nbformat": 4,
  "nbformat_minor": 0,
  "metadata": {
    "colab": {
      "name": "TC - nonTC.ipynb",
      "version": "0.3.2",
      "provenance": [],
      "collapsed_sections": [],
      "toc_visible": true
    },
    "kernelspec": {
      "name": "python2",
      "display_name": "Python 2"
    },
    "accelerator": "GPU"
  },
  "cells": [
    {
      "metadata": {
        "id": "bVjg1rkuGKoi",
        "colab_type": "text"
      },
      "cell_type": "markdown",
      "source": [
        "Project: https://signate.jp/competitions/134\n"
      ]
    },
    {
      "metadata": {
        "id": "PyXcy57TBZao",
        "colab_type": "text"
      },
      "cell_type": "markdown",
      "source": [
        "# Description\n",
        "\n",
        "In this competition we are asked to classify satellite images to be Tropical Storms or not. This is a binary classification problem.\n",
        "\n",
        "I will apply a CNN. The dataset contains much more nonTC data than TC data, so it is challenging to get a right balanced dataset. In addition, using Google Colab I have some restrictions so I'll be using just a small part of the dataset.\n",
        "\n",
        "In this notebook I'll apply custom keras generators to load the data."
      ]
    },
    {
      "metadata": {
        "id": "FA8et9NFzGta",
        "colab_type": "text"
      },
      "cell_type": "markdown",
      "source": [
        "# Prepare environment\n",
        "\n",
        "Prepare folders and download the datasets."
      ]
    },
    {
      "metadata": {
        "id": "6TgAx1ewwBI6",
        "colab_type": "code",
        "colab": {}
      },
      "cell_type": "code",
      "source": [
        "DOWNLOAD = './download/'\n",
        "TMP = './tmp/'\n",
        "\n",
        "UNZIP = './unzip/'\n",
        "UNZIP_TEST = './unzip/test/'\n",
        "UNZIP_TRAIN_TC = './unzip/train/TC/'\n",
        "UNZIP_TRAIN_NONTC = './unzip/train/nonTC/'\n",
        "\n",
        "DS = './dataset/'\n",
        "\n",
        "DS_TRAIN = './dataset/train/'\n",
        "DS_TRAIN_TC = './dataset/train/TC/'\n",
        "DS_TRAIN_NONTC = './dataset/train/nonTC/'\n",
        "\n",
        "DS_VALIDATION = './dataset/validation/'\n",
        "DS_VALIDATION_TC = './dataset/validation/TC/'\n",
        "DS_VALIDATION_NONTC = './dataset/validation/nonTC/'\n",
        "\n",
        "DS_TEST = './dataset/test/'"
      ],
      "execution_count": 0,
      "outputs": []
    },
    {
      "metadata": {
        "id": "uIxIieUN-FTD",
        "colab_type": "code",
        "colab": {}
      },
      "cell_type": "code",
      "source": [
        "import os \n",
        "\n",
        "os.makedirs(UNZIP)\n",
        "os.makedirs(DOWNLOAD)\n",
        "os.makedirs(TMP)\n",
        "os.makedirs(DS)\n",
        "os.makedirs(DS_TRAIN)\n",
        "os.makedirs(DS_TEST)"
      ],
      "execution_count": 0,
      "outputs": []
    },
    {
      "metadata": {
        "id": "BfsWRR6GwJ3V",
        "colab_type": "code",
        "colab": {}
      },
      "cell_type": "code",
      "source": [
        "import requests\n",
        "\n",
        "def download_file_from_google_drive(urls, destinations):\n",
        "    def get_id_from_url (url):\n",
        "      return url.split(\"=\")[1]\n",
        "  \n",
        "    def get_confirm_token(response):\n",
        "        for key, value in response.cookies.items():\n",
        "            if key.startswith('download_warning'):\n",
        "                return value\n",
        "\n",
        "        return None\n",
        "\n",
        "    def save_response_content(response, destination):\n",
        "        CHUNK_SIZE = 32768\n",
        "\n",
        "        with open(destination, \"wb\") as f:\n",
        "            for chunk in response.iter_content(CHUNK_SIZE):\n",
        "                if chunk: # filter out keep-alive new chunks\n",
        "                    f.write(chunk)\n",
        "\n",
        "    def already_exists (destination):\n",
        "      return os.access(destination, os.F_OK)\n",
        "                    \n",
        "    URL = \"https://docs.google.com/uc?export=download\"\n",
        "\n",
        "    session = requests.Session()\n",
        "\n",
        "    i = 0\n",
        "    for url in urls:\n",
        "      if already_exists (destinations[i]):\n",
        "        i += 1\n",
        "        continue\n",
        "      \n",
        "      print (\"Downloading from \"+str(url))\n",
        "      id = get_id_from_url(url)\n",
        "      response = session.get(URL, params = { 'id' : id }, stream = True)\n",
        "      token = get_confirm_token(response)\n",
        "\n",
        "      if token:\n",
        "          params = { 'id' : id, 'confirm' : token }\n",
        "          response = session.get(URL, params = params, stream = True)\n",
        "\n",
        "      save_response_content(response, destinations[i])\n",
        "\n",
        "      i += 1\n"
      ],
      "execution_count": 0,
      "outputs": []
    },
    {
      "metadata": {
        "id": "OIRji8U6-Jpa",
        "colab_type": "code",
        "colab": {}
      },
      "cell_type": "code",
      "source": [
        "TRAIN_FILE_1 = 'train_1.zip'\n",
        "TRAIN_FILE_14 = 'train_14.zip'\n",
        "TRAIN_FILE_15 = 'train_15.zip'\n",
        "TRAIN_FILE_16 = 'train_16.zip'\n",
        "TEST_FILE_1 = 'test_1.zip'\n",
        "TEST_FILE_2 = 'test_2.zip'\n",
        "TEST_FILE_3 = 'test_3.zip'"
      ],
      "execution_count": 0,
      "outputs": []
    },
    {
      "metadata": {
        "id": "9sNAvmqF5Gr-",
        "colab_type": "code",
        "colab": {}
      },
      "cell_type": "code",
      "source": [
        "urls = [\"https://drive.google.com/open?id=XXXXXXXXXXXX\",\n",
        "        \"https://drive.google.com/open?id=XXXXXXXXXXXX\",\n",
        "        \"https://drive.google.com/open?id=XXXXXXXXXXXX\",\n",
        "        \"https://drive.google.com/open?id=XXXXXXXXXXXX\",\n",
        "        \"https://drive.google.com/open?id=XXXXXXXXXXXX\",\n",
        "        \"https://drive.google.com/open?id=XXXXXXXXXXXX\",\n",
        "        \"https://drive.google.com/open?id=XXXXXXXXXXXX\"\n",
        "       ]\n",
        "destinations = [DOWNLOAD+TRAIN_FILE_1, \n",
        "                DOWNLOAD+TRAIN_FILE_14, \n",
        "                DOWNLOAD+TRAIN_FILE_15, \n",
        "                DOWNLOAD+TRAIN_FILE_16, \n",
        "                DOWNLOAD+TEST_FILE_1, \n",
        "                DOWNLOAD+TEST_FILE_2, \n",
        "                DOWNLOAD+TEST_FILE_3]\n",
        "\n",
        "assert len(urls) == len(destinations)\n",
        "\n",
        "download_file_from_google_drive (urls, destinations)"
      ],
      "execution_count": 0,
      "outputs": []
    },
    {
      "metadata": {
        "id": "xdZekdf1HGO5",
        "colab_type": "code",
        "colab": {
          "base_uri": "https://localhost:8080/",
          "height": 218
        },
        "outputId": "688a0190-19d5-4237-c170-9ccc5b7b1e77"
      },
      "cell_type": "code",
      "source": [
        "!ls -la ./download/"
      ],
      "execution_count": 123,
      "outputs": [
        {
          "output_type": "stream",
          "text": [
            "total 10813800\n",
            "drwxr-xr-x 2 root root       4096 Sep 11 05:32 .\n",
            "drwxr-xr-x 1 root root       4096 Sep 11 05:01 ..\n",
            "-rw-r--r-- 1 root root 2157272529 Sep 11 05:32 test_1.zip\n",
            "-rw-r--r-- 1 root root 2157275172 Sep 11 05:32 test_2.zip\n",
            "-rw-r--r-- 1 root root   29125071 Sep 11 04:08 test_3.zip\n",
            "-rw-r--r-- 1 root root 2158604769 Sep 11 05:31 train_14.zip\n",
            "-rw-r--r-- 1 root root 2166318380 Sep 11 05:32 train_15.zip\n",
            "-rw-r--r-- 1 root root 2158586692 Sep 11 04:08 train_16.zip\n",
            "-rw-r--r-- 1 root root  246104122 Sep 11 05:31 train_1.zip\n"
          ],
          "name": "stdout"
        }
      ]
    },
    {
      "metadata": {
        "id": "2AJZSqlTHRNQ",
        "colab_type": "code",
        "colab": {
          "base_uri": "https://localhost:8080/",
          "height": 136
        },
        "outputId": "005946d5-79e4-45db-94fb-680094de8622"
      },
      "cell_type": "code",
      "source": [
        "import zipfile\n",
        "\n",
        "def unzip (file, destination):\n",
        "  zip_ref = zipfile.ZipFile(file, 'r')\n",
        "  zip_ref.extractall(destination)\n",
        "  zip_ref.close()\n",
        "\n",
        "for file in os.listdir (DOWNLOAD):\n",
        "  unzip (DOWNLOAD+file, UNZIP)\n",
        "  print (\"File {} unzipped\".format(DOWNLOAD+file))"
      ],
      "execution_count": 126,
      "outputs": [
        {
          "output_type": "stream",
          "text": [
            "File ./download/train_16.zip unzipped\n",
            "File ./download/train_1.zip unzipped\n",
            "File ./download/test_3.zip unzipped\n",
            "File ./download/test_2.zip unzipped\n",
            "File ./download/train_14.zip unzipped\n",
            "File ./download/train_15.zip unzipped\n",
            "File ./download/test_1.zip unzipped\n"
          ],
          "name": "stdout"
        }
      ]
    },
    {
      "metadata": {
        "id": "DCsXokMbzQPD",
        "colab_type": "text"
      },
      "cell_type": "markdown",
      "source": [
        "# Visualize an example"
      ]
    },
    {
      "metadata": {
        "id": "eW-UanFXB6YY",
        "colab_type": "code",
        "colab": {
          "base_uri": "https://localhost:8080/",
          "height": 384
        },
        "outputId": "b2da0464-0171-4659-8bcc-acd9f27d2902"
      },
      "cell_type": "code",
      "source": [
        "!pip install tifffile"
      ],
      "execution_count": 8,
      "outputs": [
        {
          "output_type": "stream",
          "text": [
            "Collecting tifffile\n",
            "\u001b[?25l  Downloading https://files.pythonhosted.org/packages/1f/a1/4055cd679081cb4c1e40aa7648adb12574bf2d954709b5b9229c39dc0d44/tifffile-0.15.1.tar.gz (104kB)\n",
            "\u001b[K    100% |████████████████████████████████| 112kB 5.6MB/s \n",
            "\u001b[?25hRequirement already satisfied: numpy>=1.8.2 in /usr/local/lib/python2.7/dist-packages (from tifffile) (1.14.5)\n",
            "Requirement already satisfied: futures in /usr/local/lib/python2.7/dist-packages (from tifffile) (3.2.0)\n",
            "Requirement already satisfied: pathlib in /usr/local/lib/python2.7/dist-packages (from tifffile) (1.0.1)\n",
            "Requirement already satisfied: enum34 in /usr/local/lib/python2.7/dist-packages (from tifffile) (1.1.6)\n",
            "Building wheels for collected packages: tifffile\n",
            "  Running setup.py bdist_wheel for tifffile ... \u001b[?25l-\b \b\\\b \b|\b \b/\b \bdone\n",
            "\u001b[?25h  Stored in directory: /root/.cache/pip/wheels/22/5b/8e/a9bc85b5dfc1cc91b840b91bfa362a11eeda847d2d4464304e\n",
            "Successfully built tifffile\n",
            "Installing collected packages: tifffile\n",
            "Successfully installed tifffile-0.15.1\n"
          ],
          "name": "stdout"
        }
      ]
    },
    {
      "metadata": {
        "id": "ioxOgjV_Q_gy",
        "colab_type": "code",
        "colab": {
          "base_uri": "https://localhost:8080/",
          "height": 434
        },
        "outputId": "d549c038-e8cf-46d1-b7af-3b4bcecec3b6"
      },
      "cell_type": "code",
      "source": [
        "# Converting the 1D image to 3D\n",
        "\n",
        "import PIL.Image\n",
        "\n",
        "pimage = PIL.Image.open(tmp_img)\n",
        "image = np.array(pimage)\n",
        "print (\"Image shape {}\".format(image.shape))\n",
        "print (\"Colors: {}\".format (pimage.getcolors()))\n",
        "print (\"Extreme values: {}\".format(pimage.getextrema()))\n",
        "print (\"Image mode: {}\".format (pimage.mode))\n",
        "\n",
        "diff = pimage.getextrema()\n",
        "maxv = np.amax(image)\n",
        "image2 = np.zeros((64,64,3))\n",
        "\n",
        "image2[:,:,0] = image/maxv\n",
        "image2[:,:,1] = image/maxv\n",
        "image2[:,:,2] = image/maxv\n",
        "\n",
        "plt.imshow(image2)\n",
        "plt.show()\n",
        "\n",
        "print (\"Random pixel {}\".format(image[30][30]))\n"
      ],
      "execution_count": 135,
      "outputs": [
        {
          "output_type": "stream",
          "text": [
            "Image shape (64, 64)\n",
            "Colors: None\n",
            "Extreme values: (0.1223573312163353, 1.0629898309707642)\n",
            "Image mode: F\n"
          ],
          "name": "stdout"
        },
        {
          "output_type": "display_data",
          "data": {
            "image/png": "[encoded data removed]",
            "text/plain": [
              "<matplotlib.figure.Figure at 0x7f42dd1523d0>"
            ]
          },
          "metadata": {
            "tags": []
          }
        },
        {
          "output_type": "stream",
          "text": [
            "Random pixel [0.97346544 0.97346544 0.97346544]\n"
          ],
          "name": "stdout"
        }
      ]
    },
    {
      "metadata": {
        "id": "FR659bimElEW",
        "colab_type": "code",
        "colab": {
          "base_uri": "https://localhost:8080/",
          "height": 647
        },
        "outputId": "023db4ed-503e-4775-8e66-002d5e5f3fb3"
      },
      "cell_type": "code",
      "source": [
        "# non tc image in 1D\n",
        "\n",
        "tmp_img = UNZIP_TRAIN_NONTC+os.listdir(UNZIP_TRAIN_NONTC)[0]\n",
        "P = tiff.imread(tmp_img) \n",
        "tiff.imshow(P)"
      ],
      "execution_count": 16,
      "outputs": [
        {
          "output_type": "execute_result",
          "data": {
            "text/plain": [
              "(<matplotlib.figure.Figure at 0x7f8cddd1d150>,\n",
              " <matplotlib.axes._subplots.AxesSubplot at 0x7f8cdafb2b50>,\n",
              " <matplotlib.image.AxesImage at 0x7f8cdc9c77d0>)"
            ]
          },
          "metadata": {
            "tags": []
          },
          "execution_count": 16
        },
        {
          "output_type": "display_data",
          "data": {
            "image/png": "[encoded data removed]",
            "text/plain": [
              "<matplotlib.figure.Figure at 0x7f8cddd1d150>"
            ]
          },
          "metadata": {
            "tags": []
          }
        }
      ]
    },
    {
      "metadata": {
        "id": "sWF26GWV4UtO",
        "colab_type": "text"
      },
      "cell_type": "markdown",
      "source": [
        "# Create the sets\n",
        "\n",
        "We have to create a balanced **training** dataset with 50% class distribution. The dataset provided by the organization is unbalanced. \n",
        "\n",
        "We should also create an equally distributed **validation** dataset..."
      ]
    },
    {
      "metadata": {
        "id": "5EKS-gZBJjCy",
        "colab_type": "code",
        "colab": {
          "base_uri": "https://localhost:8080/",
          "height": 51
        },
        "outputId": "b6cd047b-5da1-45a9-deb1-94bf751a81df"
      },
      "cell_type": "code",
      "source": [
        "print (\"Number of TC examples: {}\".format(len(os.listdir(UNZIP_TRAIN_TC))))\n",
        "print (\"Number of nonTC examples: {}\".format(len(os.listdir(UNZIP_TRAIN_NONTC))))"
      ],
      "execution_count": 127,
      "outputs": [
        {
          "output_type": "stream",
          "text": [
            "Number of TC examples: 13993\n",
            "Number of nonTC examples: 448323\n"
          ],
          "name": "stdout"
        }
      ]
    },
    {
      "metadata": {
        "id": "ERcSytOKKUwH",
        "colab_type": "text"
      },
      "cell_type": "markdown",
      "source": [
        "The **goal** is:\n",
        "\n",
        "Training set of 13k TC images and 13k nonTC images approximately.\n",
        "\n",
        "The validation dataset will be 993 TC images and 993 nonTC images.\n",
        "\n",
        "Let's first create the folder structure.\n",
        "\n",
        "We'll have train and validation folders and inside them one folder per class:"
      ]
    },
    {
      "metadata": {
        "id": "gb9oRahPaEVB",
        "colab_type": "text"
      },
      "cell_type": "markdown",
      "source": [
        "+ dataset\n",
        "  + train\n",
        "    - TC : 13k\n",
        "    - nonTC: 13k\n",
        "  + validation:\n",
        "    - TC: 993\n",
        "    - nonTC: 993"
      ]
    },
    {
      "metadata": {
        "id": "oyZ7P_V80HRX",
        "colab_type": "code",
        "colab": {}
      },
      "cell_type": "code",
      "source": [
        "TRAIN_EXAMPLES = 12500\n",
        "VALIDATION_EXAMPLES = 1490"
      ],
      "execution_count": 0,
      "outputs": []
    },
    {
      "metadata": {
        "id": "mTskANhPJYxI",
        "colab_type": "code",
        "colab": {}
      },
      "cell_type": "code",
      "source": [
        "!rm -r ./dataset/*"
      ],
      "execution_count": 0,
      "outputs": []
    },
    {
      "metadata": {
        "id": "i0IoxIrtN3NB",
        "colab_type": "code",
        "colab": {}
      },
      "cell_type": "code",
      "source": [
        "!mkdir ./dataset/train\n",
        "!mkdir ./dataset/validation\n",
        "!mkdir ./dataset/train/TC\n",
        "!mkdir ./dataset/validation/TC\n",
        "!mkdir ./dataset/train/nonTC\n",
        "!mkdir ./dataset/validation/nonTC\n",
        "!mkdir ./dataset/test"
      ],
      "execution_count": 0,
      "outputs": []
    },
    {
      "metadata": {
        "id": "30CeXq0OLaP2",
        "colab_type": "code",
        "colab": {}
      },
      "cell_type": "code",
      "source": [
        "import random\n",
        "import numpy as np"
      ],
      "execution_count": 0,
      "outputs": []
    },
    {
      "metadata": {
        "id": "RKJytGPfQP5J",
        "colab_type": "code",
        "colab": {}
      },
      "cell_type": "code",
      "source": [
        "'''\n",
        "Let's work first with TC images.\n",
        "\n",
        "We'll generate X random indexes between 0 and 13993. \n",
        "We'll read the directory and we'll move \n",
        "the images with those indexes, to the validation dataset.\n",
        "The rest, will be moved to the train dataset.\n",
        "'''\n",
        "\n",
        "import shutil\n",
        "\n",
        "def files_in_folder (folder):\n",
        "  print (\"Number of files in {} = {}\".format (folder, len(os.listdir(folder))))\n",
        "\n",
        "def move_files(indexes, origin, destination):\n",
        "  files = os.listdir(origin)\n",
        "  for index in indexes:\n",
        "    file_2_move = files[index]\n",
        "    shutil.move (origin+file_2_move, destination+file_2_move)\n",
        "    \n",
        "def move_all_files (origin, destination):\n",
        "  for file in os.listdir(origin):\n",
        "    shutil.move (origin+file, destination+file)  "
      ],
      "execution_count": 0,
      "outputs": []
    },
    {
      "metadata": {
        "id": "xgkrSGr9Rk_G",
        "colab_type": "code",
        "colab": {}
      },
      "cell_type": "code",
      "source": [
        "# move 993 images from UNZIP_TRAIN_TC to DS_VALIDATION_TC\n",
        "RANGE_BOTTOM = 0\n",
        "RANGE_TOP = len(os.listdir(UNZIP_TRAIN_TC))-1\n",
        "N_RECORDS = VALIDATION_EXAMPLES\n",
        "\n",
        "indexes = sorted (random.sample (range(RANGE_BOTTOM, RANGE_TOP), N_RECORDS))\n",
        "move_files(indexes, UNZIP_TRAIN_TC, DS_VALIDATION_TC)"
      ],
      "execution_count": 0,
      "outputs": []
    },
    {
      "metadata": {
        "id": "NoEl7XlHT3wL",
        "colab_type": "code",
        "colab": {}
      },
      "cell_type": "code",
      "source": [
        "move_all_files (DS_TRAIN_TC, DS_VALIDATION_TC)"
      ],
      "execution_count": 0,
      "outputs": []
    },
    {
      "metadata": {
        "id": "h_9B7e-BS6cT",
        "colab_type": "code",
        "colab": {
          "base_uri": "https://localhost:8080/",
          "height": 68
        },
        "outputId": "24206292-c5e4-40f6-bc55-e7aa3546a4b2"
      },
      "cell_type": "code",
      "source": [
        "files_in_folder (UNZIP_TRAIN_TC)\n",
        "files_in_folder (DS_TRAIN_TC)\n",
        "files_in_folder (DS_VALIDATION_TC)"
      ],
      "execution_count": 133,
      "outputs": [
        {
          "output_type": "stream",
          "text": [
            "Number of files in ./unzip/train/TC/ = 12503\n",
            "Number of files in ./dataset/train/TC/ = 0\n",
            "Number of files in ./dataset/validation/TC/ = 1490\n"
          ],
          "name": "stdout"
        }
      ]
    },
    {
      "metadata": {
        "id": "QcjbpKsHUNIV",
        "colab_type": "text"
      },
      "cell_type": "markdown",
      "source": [
        "we moved 993 images to the validation dataset. Let's move the rest of the pictures to the TC train set."
      ]
    },
    {
      "metadata": {
        "id": "mjAvRQamUUd9",
        "colab_type": "code",
        "colab": {}
      },
      "cell_type": "code",
      "source": [
        "# move the rest of TC images from UNZIP_TRAIN_TC to DS_TRAIN_TC\n",
        "move_all_files (UNZIP_TRAIN_TC, DS_TRAIN_TC)"
      ],
      "execution_count": 0,
      "outputs": []
    },
    {
      "metadata": {
        "id": "dXEMXxYGZbIY",
        "colab_type": "code",
        "colab": {
          "base_uri": "https://localhost:8080/",
          "height": 68
        },
        "outputId": "78b16b46-93cd-43c9-df25-b1086eed8604"
      },
      "cell_type": "code",
      "source": [
        "files_in_folder (UNZIP_TRAIN_TC)\n",
        "files_in_folder (DS_TRAIN_TC)\n",
        "files_in_folder (DS_VALIDATION_TC)"
      ],
      "execution_count": 135,
      "outputs": [
        {
          "output_type": "stream",
          "text": [
            "Number of files in ./unzip/train/TC/ = 0\n",
            "Number of files in ./dataset/train/TC/ = 12503\n",
            "Number of files in ./dataset/validation/TC/ = 1490\n"
          ],
          "name": "stdout"
        }
      ]
    },
    {
      "metadata": {
        "id": "sJMChn_8ZlKu",
        "colab_type": "code",
        "colab": {}
      },
      "cell_type": "code",
      "source": [
        "# move 993 nonTC images from unzip to validation\n",
        "\n",
        "RANGE_BOTTOM = 0\n",
        "RANGE_TOP = len(os.listdir(UNZIP_TRAIN_NONTC))-1\n",
        "N_RECORDS = VALIDATION_EXAMPLES\n",
        "\n",
        "indexes = sorted (random.sample (range(RANGE_BOTTOM, RANGE_TOP), N_RECORDS))\n",
        "move_files(indexes, UNZIP_TRAIN_NONTC, DS_VALIDATION_NONTC)"
      ],
      "execution_count": 0,
      "outputs": []
    },
    {
      "metadata": {
        "id": "wKOv0l62Ze3_",
        "colab_type": "code",
        "colab": {
          "base_uri": "https://localhost:8080/",
          "height": 51
        },
        "outputId": "f98d8b4c-3ad8-452a-b9f6-10382207193b"
      },
      "cell_type": "code",
      "source": [
        "files_in_folder (DS_VALIDATION_NONTC)\n",
        "files_in_folder (DS_VALIDATION_TC)"
      ],
      "execution_count": 137,
      "outputs": [
        {
          "output_type": "stream",
          "text": [
            "Number of files in ./dataset/validation/nonTC/ = 1490\n",
            "Number of files in ./dataset/validation/TC/ = 1490\n"
          ],
          "name": "stdout"
        }
      ]
    },
    {
      "metadata": {
        "id": "QVqcppB9bCYa",
        "colab_type": "text"
      },
      "cell_type": "markdown",
      "source": [
        "Validation set ready!\n",
        "\n",
        "Let's do the same for the training set."
      ]
    },
    {
      "metadata": {
        "id": "z4oAGqWebBvh",
        "colab_type": "code",
        "colab": {}
      },
      "cell_type": "code",
      "source": [
        "# move 13000 nonTC images from unzip to training\n",
        "\n",
        "RANGE_BOTTOM = 0\n",
        "RANGE_TOP = len(os.listdir(UNZIP_TRAIN_NONTC))-1\n",
        "N_RECORDS = TRAIN_EXAMPLES\n",
        "\n",
        "indexes = sorted (random.sample (range(RANGE_BOTTOM, RANGE_TOP), N_RECORDS))\n",
        "move_files(indexes, UNZIP_TRAIN_NONTC, DS_TRAIN_NONTC)"
      ],
      "execution_count": 0,
      "outputs": []
    },
    {
      "metadata": {
        "id": "SzAWiF8d5ZDV",
        "colab_type": "code",
        "colab": {
          "base_uri": "https://localhost:8080/",
          "height": 51
        },
        "outputId": "10a883fa-cf0c-4fd0-da83-94f4781f86c8"
      },
      "cell_type": "code",
      "source": [
        "files_in_folder (DS_TRAIN_NONTC)\n",
        "files_in_folder (DS_TRAIN_TC)"
      ],
      "execution_count": 139,
      "outputs": [
        {
          "output_type": "stream",
          "text": [
            "Number of files in ./dataset/train/nonTC/ = 12500\n",
            "Number of files in ./dataset/train/TC/ = 12503\n"
          ],
          "name": "stdout"
        }
      ]
    },
    {
      "metadata": {
        "id": "8IxdwS1TblBa",
        "colab_type": "text"
      },
      "cell_type": "markdown",
      "source": [
        "Training set ready! Let's check the folders:"
      ]
    },
    {
      "metadata": {
        "id": "6NN03iKibkIK",
        "colab_type": "code",
        "colab": {
          "base_uri": "https://localhost:8080/",
          "height": 136
        },
        "outputId": "07c44f80-cbfa-49e9-bf19-b020f1b5b044"
      },
      "cell_type": "code",
      "source": [
        "files_in_folder (UNZIP_TRAIN_NONTC)\n",
        "files_in_folder (UNZIP_TRAIN_TC)\n",
        "files_in_folder (DS_TRAIN_NONTC)\n",
        "files_in_folder (DS_TRAIN_TC)\n",
        "files_in_folder (DS_VALIDATION_NONTC)\n",
        "files_in_folder (DS_VALIDATION_TC)\n",
        "files_in_folder (DS_TEST)"
      ],
      "execution_count": 140,
      "outputs": [
        {
          "output_type": "stream",
          "text": [
            "Number of files in ./unzip/train/nonTC/ = 434333\n",
            "Number of files in ./unzip/train/TC/ = 0\n",
            "Number of files in ./dataset/train/nonTC/ = 12500\n",
            "Number of files in ./dataset/train/TC/ = 12503\n",
            "Number of files in ./dataset/validation/nonTC/ = 1490\n",
            "Number of files in ./dataset/validation/TC/ = 1490\n",
            "Number of files in ./dataset/test/ = 0\n"
          ],
          "name": "stdout"
        }
      ]
    },
    {
      "metadata": {
        "id": "V6SArQm5C30F",
        "colab_type": "text"
      },
      "cell_type": "markdown",
      "source": [
        "Test files from unzip to test folder under dataset."
      ]
    },
    {
      "metadata": {
        "id": "xBhbwcH_vXz9",
        "colab_type": "code",
        "colab": {}
      },
      "cell_type": "code",
      "source": [
        "# preparation of test files\n",
        "move_all_files (UNZIP_TEST, DS_TEST)"
      ],
      "execution_count": 0,
      "outputs": []
    },
    {
      "metadata": {
        "id": "VYfcQBH5JqsO",
        "colab_type": "code",
        "colab": {
          "base_uri": "https://localhost:8080/",
          "height": 34
        },
        "outputId": "9811fe0c-5c6b-4e9f-e436-626ec4af7936"
      },
      "cell_type": "code",
      "source": [
        "len(os.listdir(DS_TEST))"
      ],
      "execution_count": 142,
      "outputs": [
        {
          "output_type": "execute_result",
          "data": {
            "text/plain": [
              "299135"
            ]
          },
          "metadata": {
            "tags": []
          },
          "execution_count": 142
        }
      ]
    },
    {
      "metadata": {
        "id": "1U8y_nk3zfLO",
        "colab_type": "text"
      },
      "cell_type": "markdown",
      "source": [
        "# Image preprocessing\n",
        "\n",
        "This is the standard Keras image preprocessing. But I won't be using it. \n",
        "\n",
        "The function addchannels is interesting as long as converts 1 channel into 3 channels image stacking the same channel 3 times. This is called from the default Keras generator."
      ]
    },
    {
      "metadata": {
        "id": "CgPPHYOmw0kL",
        "colab_type": "code",
        "colab": {
          "base_uri": "https://localhost:8080/",
          "height": 51
        },
        "outputId": "a5763a9c-46e4-4a4e-daf2-75b6826adc73"
      },
      "cell_type": "code",
      "source": [
        "from keras.preprocessing.image import ImageDataGenerator\n",
        "from keras import backend as K\n",
        "\n",
        "# dimensions of our images.\n",
        "img_width, img_height = 64, 64\n",
        "batch_size = 64\n",
        "\n",
        "def addchannels (nptensor):\n",
        "  max_val = np.amax(nptensor)\n",
        "  channel = nptensor[:,:,0] / max_val\n",
        "  return np.dstack ((channel, channel, channel))\n",
        "\n",
        "# this is the augmentation configuration we will use for training\n",
        "#train_datagen = ImageDataGenerator(preprocessing_function=addchannels)\n",
        "train_datagen = ImageDataGenerator()\n",
        "\n",
        "# this is the augmentation configuration we will use for testing:\n",
        "# only rescaling\n",
        "#val_datagen = ImageDataGenerator (preprocessing_function=addchannels)\n",
        "val_datagen = ImageDataGenerator ()\n",
        "\n",
        "train_generator = train_datagen.flow_from_directory(\n",
        "    DS_TRAIN,\n",
        "    target_size=(img_width, img_height),\n",
        "    batch_size=batch_size,\n",
        "    shuffle = True,\n",
        "    color_mode='grayscale',\n",
        "    class_mode='categorical',\n",
        "    save_to_dir='./tmp')\n",
        "\n",
        "validation_generator = val_datagen.flow_from_directory(\n",
        "    DS_VALIDATION,\n",
        "    target_size=(img_width, img_height),\n",
        "    batch_size=batch_size,\n",
        "    shuffle = True,\n",
        "    color_mode='grayscale',\n",
        "    class_mode='categorical')\n"
      ],
      "execution_count": 154,
      "outputs": [
        {
          "output_type": "stream",
          "text": [
            "Found 26000 images belonging to 2 classes.\n",
            "Found 1986 images belonging to 2 classes.\n"
          ],
          "name": "stdout"
        }
      ]
    },
    {
      "metadata": {
        "id": "r75sCQnWjOi_",
        "colab_type": "text"
      },
      "cell_type": "markdown",
      "source": [
        "# Custom image generator\n",
        "\n",
        "The best in that case is to read by ourselves the images. So I built my own generator.\n",
        "\n",
        "This generator yields the image and the label together."
      ]
    },
    {
      "metadata": {
        "id": "NgpzhD1mj4SG",
        "colab_type": "code",
        "colab": {}
      },
      "cell_type": "code",
      "source": [
        "from PIL import Image\n",
        "\n",
        "# for testing purposes\n",
        "def get_input_test (path):\n",
        "  x = get_input (path)\n",
        "  return np.array([x])\n",
        "\n",
        "# read the image\n",
        "def get_input (path):\n",
        "  pimage = Image.open(path)\n",
        "  maxv = pimage.getextrema()[1]\n",
        "  image_1d = np.array(pimage)/maxv\n",
        "  return np.reshape(image_1d, (64,64,1))\n",
        "\n",
        "# return the class based on the path\n",
        "def get_output (path):\n",
        "    img_class = path.split('/')[3]\n",
        "    if img_class == 'TC':\n",
        "      label = 1\n",
        "    else:\n",
        "      label = 0\n",
        "    return (label)"
      ],
      "execution_count": 0,
      "outputs": []
    },
    {
      "metadata": {
        "id": "CLpNhtOujR32",
        "colab_type": "code",
        "colab": {}
      },
      "cell_type": "code",
      "source": [
        "def image_generator(files, batch_size = 64):\n",
        "    \n",
        "  while True:\n",
        "    # Select files (paths/indices) for the batch\n",
        "    batch_paths = np.random.choice(a = files, \n",
        "                                   size = batch_size)\n",
        "    batch_input = []\n",
        "    batch_output = [] \n",
        "\n",
        "    # Read in each input, perform preprocessing and get labels\n",
        "    for input_path in batch_paths:\n",
        "        input = get_input(input_path )\n",
        "        output = get_output(input_path)\n",
        "\n",
        "        batch_input += [ input ]\n",
        "        batch_output += [ output ]\n",
        "\n",
        "    # Return a tuple of (input,output) to feed the network\n",
        "    batch_x = np.array( batch_input )\n",
        "    batch_y = np.array( batch_output )\n",
        "\n",
        "    yield (batch_x, batch_y)"
      ],
      "execution_count": 0,
      "outputs": []
    },
    {
      "metadata": {
        "id": "jcfMkTgundnQ",
        "colab_type": "code",
        "colab": {}
      },
      "cell_type": "code",
      "source": [
        "# training dataset\n",
        "TC_files = os.listdir('./dataset/train/TC')\n",
        "for i in range(0,len(TC_files)):\n",
        "  TC_files[i] = './dataset/train/TC/'+TC_files[i]\n",
        "\n",
        "nonTC_files = os.listdir('./dataset/train/nonTC')\n",
        "for i in range(0,len(nonTC_files)):\n",
        "  nonTC_files[i] = './dataset/train/nonTC/'+nonTC_files[i]\n",
        "\n",
        "train_files = TC_files + nonTC_files\n",
        "random.shuffle(train_files)"
      ],
      "execution_count": 0,
      "outputs": []
    },
    {
      "metadata": {
        "id": "mDWvhd_JlZPj",
        "colab_type": "code",
        "colab": {}
      },
      "cell_type": "code",
      "source": [
        "# Validation dataset\n",
        "TC_files = os.listdir('./dataset/validation/TC')\n",
        "for i in range(0,len(TC_files)):\n",
        "  TC_files[i] = './dataset/validation/TC/'+TC_files[i]\n",
        "\n",
        "nonTC_files = os.listdir('./dataset/validation/nonTC')\n",
        "for i in range(0,len(nonTC_files)):\n",
        "  nonTC_files[i] = './dataset/validation/nonTC/'+nonTC_files[i]\n",
        "\n",
        "val_files = TC_files + nonTC_files\n",
        "random.shuffle(val_files)"
      ],
      "execution_count": 0,
      "outputs": []
    },
    {
      "metadata": {
        "id": "G2vBnS-Yuphz",
        "colab_type": "code",
        "colab": {
          "base_uri": "https://localhost:8080/",
          "height": 34
        },
        "outputId": "1d7804a8-1f47-4d21-c18f-6af7eef07f0c"
      },
      "cell_type": "code",
      "source": [
        "test_files = os.listdir(DS_TEST)\n",
        "print (len(test_files))"
      ],
      "execution_count": 148,
      "outputs": [
        {
          "output_type": "stream",
          "text": [
            "299135\n"
          ],
          "name": "stdout"
        }
      ]
    },
    {
      "metadata": {
        "id": "O47gqwH4-JSs",
        "colab_type": "code",
        "colab": {}
      },
      "cell_type": "code",
      "source": [
        "# Creating the generators\n",
        "\n",
        "train_generator = image_generator (train_files)\n",
        "\n",
        "val_generator = image_generator (val_files)\n"
      ],
      "execution_count": 0,
      "outputs": []
    },
    {
      "metadata": {
        "id": "7-YyEsFUflYR",
        "colab_type": "code",
        "colab": {
          "base_uri": "https://localhost:8080/",
          "height": 68
        },
        "outputId": "6c9dce3d-8d31-4429-f2e4-4bbf459f250d"
      },
      "cell_type": "code",
      "source": [
        "train_batch, train_labels = next (train_generator)\n",
        "\n",
        "print (\"Batch shape: {}\".format (train_batch.shape))\n",
        "print (\"Image shape: {}\".format (train_batch[2].shape))\n",
        "print (\"Label = {}\".format (train_labels[2]))"
      ],
      "execution_count": 150,
      "outputs": [
        {
          "output_type": "stream",
          "text": [
            "Batch shape: (64, 64, 64, 1)\n",
            "Image shape: (64, 64, 1)\n",
            "Label = 0\n"
          ],
          "name": "stdout"
        }
      ]
    },
    {
      "metadata": {
        "id": "UlECk6aWlwkX",
        "colab_type": "code",
        "colab": {
          "base_uri": "https://localhost:8080/",
          "height": 68
        },
        "outputId": "c5b8bdd7-e4aa-4b1e-e028-697d7cefd1f2"
      },
      "cell_type": "code",
      "source": [
        "val_batch, val_labels = next (val_generator)\n",
        "\n",
        "print (\"Batch shape: {}\".format (val_batch.shape))\n",
        "print (\"Image shape: {}\".format (val_batch[2].shape))\n",
        "print (\"Label = {}\".format (val_labels[2]))"
      ],
      "execution_count": 152,
      "outputs": [
        {
          "output_type": "stream",
          "text": [
            "Batch shape: (64, 64, 64, 1)\n",
            "Image shape: (64, 64, 1)\n",
            "Label = 0\n"
          ],
          "name": "stdout"
        }
      ]
    },
    {
      "metadata": {
        "id": "VL3vB8Axckkb",
        "colab_type": "text"
      },
      "cell_type": "markdown",
      "source": [
        "# First try\n",
        "\n",
        "Simple convolutional model. The input is the 1 channel image Outputs one single value after sigmoid function. 1 represents 'TC' and 0 represents 'nonTC'. "
      ]
    },
    {
      "metadata": {
        "id": "e0F9ylxDdRWQ",
        "colab_type": "code",
        "colab": {}
      },
      "cell_type": "code",
      "source": [
        "from keras.models import Sequential\n",
        "from keras.layers import Conv2D, MaxPooling2D\n",
        "from keras.layers import Activation, Dropout, Flatten, Dense\n",
        "\n",
        "model = Sequential()\n",
        "model.add(Conv2D(16, (2, 2), input_shape=(64, 64, 1)))\n",
        "model.add(Activation('relu'))\n",
        "model.add(MaxPooling2D(pool_size=(2, 2)))\n",
        "\n",
        "model.add(Conv2D(32, (2, 2)))\n",
        "model.add(Activation('relu'))\n",
        "model.add(MaxPooling2D(pool_size=(2, 2)))\n",
        "\n",
        "model.add(Conv2D(64, (2, 2)))\n",
        "model.add(Activation('relu'))\n",
        "model.add(MaxPooling2D(pool_size=(2, 2)))\n",
        "\n",
        "model.add(Conv2D(128, (2, 2)))\n",
        "model.add(Activation('relu'))\n",
        "model.add(MaxPooling2D(pool_size=(1, 1)))\n",
        "\n",
        "model.add(Conv2D(256, (2, 2)))\n",
        "model.add(Activation('relu'))\n",
        "model.add(MaxPooling2D(pool_size=(1, 1)))\n",
        "\n",
        "\n",
        "model.add(Flatten())  # this converts our 3D feature maps to 1D feature vectors\n",
        "model.add(Dense(512))\n",
        "model.add(Activation('relu'))\n",
        "model.add(Dropout(0.5))\n",
        "model.add(Dense(256))\n",
        "model.add(Activation('relu'))\n",
        "model.add(Dropout(0.5))\n",
        "model.add(Dense(64))\n",
        "model.add(Activation('relu'))\n",
        "model.add(Dropout(0.5))\n",
        "model.add(Dense(1))\n",
        "model.add(Activation('sigmoid'))\n",
        "\n",
        "model.compile(loss='binary_crossentropy',\n",
        "              optimizer='rmsprop',\n",
        "              metrics=['accuracy'])"
      ],
      "execution_count": 0,
      "outputs": []
    },
    {
      "metadata": {
        "id": "MI2JkAu9gdJc",
        "colab_type": "code",
        "colab": {
          "base_uri": "https://localhost:8080/",
          "height": 1054
        },
        "outputId": "2aede31b-3f6a-4b8a-e9b8-e3816767a048"
      },
      "cell_type": "code",
      "source": [
        "model.summary()"
      ],
      "execution_count": 154,
      "outputs": [
        {
          "output_type": "stream",
          "text": [
            "_________________________________________________________________\n",
            "Layer (type)                 Output Shape              Param #   \n",
            "=================================================================\n",
            "conv2d_24 (Conv2D)           (None, 63, 63, 16)        80        \n",
            "_________________________________________________________________\n",
            "activation_1360 (Activation) (None, 63, 63, 16)        0         \n",
            "_________________________________________________________________\n",
            "max_pooling2d_24 (MaxPooling (None, 31, 31, 16)        0         \n",
            "_________________________________________________________________\n",
            "conv2d_25 (Conv2D)           (None, 30, 30, 32)        2080      \n",
            "_________________________________________________________________\n",
            "activation_1361 (Activation) (None, 30, 30, 32)        0         \n",
            "_________________________________________________________________\n",
            "max_pooling2d_25 (MaxPooling (None, 15, 15, 32)        0         \n",
            "_________________________________________________________________\n",
            "conv2d_26 (Conv2D)           (None, 14, 14, 64)        8256      \n",
            "_________________________________________________________________\n",
            "activation_1362 (Activation) (None, 14, 14, 64)        0         \n",
            "_________________________________________________________________\n",
            "max_pooling2d_26 (MaxPooling (None, 7, 7, 64)          0         \n",
            "_________________________________________________________________\n",
            "conv2d_27 (Conv2D)           (None, 6, 6, 128)         32896     \n",
            "_________________________________________________________________\n",
            "activation_1363 (Activation) (None, 6, 6, 128)         0         \n",
            "_________________________________________________________________\n",
            "max_pooling2d_27 (MaxPooling (None, 6, 6, 128)         0         \n",
            "_________________________________________________________________\n",
            "conv2d_28 (Conv2D)           (None, 5, 5, 256)         131328    \n",
            "_________________________________________________________________\n",
            "activation_1364 (Activation) (None, 5, 5, 256)         0         \n",
            "_________________________________________________________________\n",
            "max_pooling2d_28 (MaxPooling (None, 5, 5, 256)         0         \n",
            "_________________________________________________________________\n",
            "flatten_6 (Flatten)          (None, 6400)              0         \n",
            "_________________________________________________________________\n",
            "dense_49 (Dense)             (None, 512)               3277312   \n",
            "_________________________________________________________________\n",
            "activation_1365 (Activation) (None, 512)               0         \n",
            "_________________________________________________________________\n",
            "dropout_35 (Dropout)         (None, 512)               0         \n",
            "_________________________________________________________________\n",
            "dense_50 (Dense)             (None, 256)               131328    \n",
            "_________________________________________________________________\n",
            "activation_1366 (Activation) (None, 256)               0         \n",
            "_________________________________________________________________\n",
            "dropout_36 (Dropout)         (None, 256)               0         \n",
            "_________________________________________________________________\n",
            "dense_51 (Dense)             (None, 64)                16448     \n",
            "_________________________________________________________________\n",
            "activation_1367 (Activation) (None, 64)                0         \n",
            "_________________________________________________________________\n",
            "dropout_37 (Dropout)         (None, 64)                0         \n",
            "_________________________________________________________________\n",
            "dense_52 (Dense)             (None, 1)                 65        \n",
            "_________________________________________________________________\n",
            "activation_1368 (Activation) (None, 1)                 0         \n",
            "=================================================================\n",
            "Total params: 3,599,793\n",
            "Trainable params: 3,599,793\n",
            "Non-trainable params: 0\n",
            "_________________________________________________________________\n"
          ],
          "name": "stdout"
        }
      ]
    },
    {
      "metadata": {
        "id": "NqKoTQfL4Of-",
        "colab_type": "text"
      },
      "cell_type": "markdown",
      "source": [
        "# Training"
      ]
    },
    {
      "metadata": {
        "id": "5Vo9CRJNde0E",
        "colab_type": "code",
        "colab": {
          "base_uri": "https://localhost:8080/",
          "height": 1020
        },
        "outputId": "6b1b0578-1665-4569-8659-28aa652b4c75"
      },
      "cell_type": "code",
      "source": [
        "batch_size = 64\n",
        "\n",
        "model.fit_generator(\n",
        "        train_generator,\n",
        "        steps_per_epoch=TRAIN_EXAMPLES // batch_size,\n",
        "        epochs=25,\n",
        "        validation_data=val_generator,\n",
        "        validation_steps=VALIDATION_EXAMPLES // batch_size)\n",
        "#model.save_weights('first_try.h5')  # always save your weights after training or during training"
      ],
      "execution_count": 155,
      "outputs": [
        {
          "output_type": "stream",
          "text": [
            "Epoch 1/25\n",
            "195/195 [==============================] - 64s 326ms/step - loss: 0.5604 - acc: 0.7380 - val_loss: 0.4368 - val_acc: 0.7826\n",
            "Epoch 2/25\n",
            "195/195 [==============================] - 23s 116ms/step - loss: 0.4618 - acc: 0.7916 - val_loss: 0.5111 - val_acc: 0.7643\n",
            "Epoch 3/25\n",
            "195/195 [==============================] - 19s 98ms/step - loss: 0.4465 - acc: 0.8015 - val_loss: 0.3996 - val_acc: 0.8125\n",
            "Epoch 4/25\n",
            "195/195 [==============================] - 17s 90ms/step - loss: 0.4349 - acc: 0.8114 - val_loss: 0.4123 - val_acc: 0.8145\n",
            "Epoch 5/25\n",
            "195/195 [==============================] - 16s 84ms/step - loss: 0.4245 - acc: 0.8143 - val_loss: 0.4462 - val_acc: 0.7982\n",
            "Epoch 6/25\n",
            "195/195 [==============================] - 16s 82ms/step - loss: 0.4226 - acc: 0.8188 - val_loss: 0.4229 - val_acc: 0.8057\n",
            "Epoch 7/25\n",
            "195/195 [==============================] - 15s 79ms/step - loss: 0.4056 - acc: 0.8228 - val_loss: 0.4117 - val_acc: 0.8111\n",
            "Epoch 8/25\n",
            "195/195 [==============================] - 15s 78ms/step - loss: 0.4004 - acc: 0.8279 - val_loss: 0.3909 - val_acc: 0.8152\n",
            "Epoch 9/25\n",
            "195/195 [==============================] - 15s 78ms/step - loss: 0.3921 - acc: 0.8355 - val_loss: 0.4018 - val_acc: 0.8064\n",
            "Epoch 10/25\n",
            "195/195 [==============================] - 15s 79ms/step - loss: 0.3901 - acc: 0.8304 - val_loss: 0.3620 - val_acc: 0.8444\n",
            "Epoch 11/25\n",
            "195/195 [==============================] - 15s 78ms/step - loss: 0.3742 - acc: 0.8402 - val_loss: 0.4677 - val_acc: 0.8071\n",
            "Epoch 12/25\n",
            "195/195 [==============================] - 15s 78ms/step - loss: 0.3716 - acc: 0.8416 - val_loss: 0.4123 - val_acc: 0.8016\n",
            "Epoch 13/25\n",
            "195/195 [==============================] - 15s 77ms/step - loss: 0.3700 - acc: 0.8413 - val_loss: 0.4617 - val_acc: 0.7969\n",
            "Epoch 14/25\n",
            "195/195 [==============================] - 14s 74ms/step - loss: 0.3644 - acc: 0.8422 - val_loss: 0.3775 - val_acc: 0.8376\n",
            "Epoch 15/25\n",
            "195/195 [==============================] - 14s 73ms/step - loss: 0.3617 - acc: 0.8491 - val_loss: 0.3517 - val_acc: 0.8363\n",
            "Epoch 16/25\n",
            "195/195 [==============================] - 14s 73ms/step - loss: 0.3654 - acc: 0.8464 - val_loss: 0.3426 - val_acc: 0.8533\n",
            "Epoch 17/25\n",
            "195/195 [==============================] - 14s 72ms/step - loss: 0.3479 - acc: 0.8506 - val_loss: 0.3763 - val_acc: 0.8207\n",
            "Epoch 18/25\n",
            "195/195 [==============================] - 15s 75ms/step - loss: 0.3524 - acc: 0.8546 - val_loss: 0.3485 - val_acc: 0.8431\n",
            "Epoch 19/25\n",
            "195/195 [==============================] - 14s 74ms/step - loss: 0.3567 - acc: 0.8485 - val_loss: 0.4063 - val_acc: 0.8200\n",
            "Epoch 20/25\n",
            "195/195 [==============================] - 15s 75ms/step - loss: 0.3481 - acc: 0.8554 - val_loss: 0.3831 - val_acc: 0.8363\n",
            "Epoch 21/25\n",
            "195/195 [==============================] - 14s 73ms/step - loss: 0.3548 - acc: 0.8509 - val_loss: 0.4316 - val_acc: 0.8193\n",
            "Epoch 22/25\n",
            "195/195 [==============================] - 15s 76ms/step - loss: 0.3416 - acc: 0.8611 - val_loss: 0.3508 - val_acc: 0.8342\n",
            "Epoch 23/25\n",
            "195/195 [==============================] - 15s 77ms/step - loss: 0.3488 - acc: 0.8522 - val_loss: 0.4528 - val_acc: 0.8213\n",
            "Epoch 24/25\n",
            "195/195 [==============================] - 14s 74ms/step - loss: 0.3461 - acc: 0.8558 - val_loss: 0.4136 - val_acc: 0.8444\n",
            "Epoch 25/25\n",
            "195/195 [==============================] - 15s 75ms/step - loss: 0.3644 - acc: 0.8527 - val_loss: 0.3736 - val_acc: 0.8451\n"
          ],
          "name": "stdout"
        },
        {
          "output_type": "execute_result",
          "data": {
            "text/plain": [
              "<keras.callbacks.History at 0x7ff4e4e3ac10>"
            ]
          },
          "metadata": {
            "tags": []
          },
          "execution_count": 155
        }
      ]
    },
    {
      "metadata": {
        "id": "jcclvqTDzUXf",
        "colab_type": "text"
      },
      "cell_type": "markdown",
      "source": [
        "# Transfer learning\n",
        "\n",
        "The model is based on transfer learning having the base model not trainable + our own model on top (trainable). I didn't get the expected results from that experiment. To be analysed."
      ]
    },
    {
      "metadata": {
        "id": "wsNI3YAOFF7p",
        "colab_type": "code",
        "colab": {}
      },
      "cell_type": "code",
      "source": [
        "from keras.applications.xception import Xception\n",
        "from keras.applications.nasnet import NASNetMobile\n",
        "\n",
        "from keras.models import Model\n",
        "from keras.layers import Dense, MaxPooling2D, GlobalAveragePooling2D, Dropout\n",
        "from keras import backend as K\n",
        "from keras import optimizers"
      ],
      "execution_count": 0,
      "outputs": []
    },
    {
      "metadata": {
        "id": "ZjKDeW3WxNa9",
        "colab_type": "code",
        "colab": {}
      },
      "cell_type": "code",
      "source": [
        "# create the base pre-trained model\n",
        "base_model = NASNetMobile(input_shape=(64,64,3), include_top=False, weights='imagenet', pooling=None)\n",
        "\n",
        "# add a global spatial average pooling layer\n",
        "x = base_model.output\n",
        "x = GlobalAveragePooling2D()(x)\n",
        "# let's add a fully-connected layer\n",
        "x = Dense(2048, activation='relu')(x)\n",
        "x = Dropout (0.2)(x)\n",
        "# one fully connected layer more\n",
        "x = Dense(1024, activation='relu')(x)\n",
        "x = Dropout (0.2)(x)\n",
        "# one fully connected layer more\n",
        "x = Dense(512, activation='relu')(x)\n",
        "# and a logistic layer --\n",
        "predictions = Dense(1, activation='sigmoid')(x)\n",
        "\n",
        "# this is the model we will train\n",
        "model = Model(inputs=base_model.input, outputs=predictions)\n",
        "\n",
        "# first: train only the top layers (which were randomly initialized)\n",
        "# i.e. freeze all convolutional from base model layers\n",
        "for layer in base_model.layers:\n",
        "  layer.trainable = False\n",
        "\n",
        "# optimizer = keras.optimizers.Adadelta(lr=1.0, rho=0.95, epsilon=None, decay=0.0) # It is recommended to leave the parameters of this optimizer at their default values.\n",
        "# compile the model (should be done *after* setting layers to non-trainable)\n",
        "model.compile(optimizer='rmsprop', loss='binary_crossentropy', metrics=['accuracy'])"
      ],
      "execution_count": 0,
      "outputs": []
    },
    {
      "metadata": {
        "id": "TbYe-rLH_5eC",
        "colab_type": "code",
        "colab": {
          "base_uri": "https://localhost:8080/",
          "height": 374
        },
        "outputId": "e021aa4d-c671-42aa-af7e-369a4066993c"
      },
      "cell_type": "code",
      "source": [
        "batch_size = 64\n",
        "epochs = 10\n",
        "model.fit_generator(\n",
        "        train_generator,\n",
        "        steps_per_epoch=TRAIN_EXAMPLES // batch_size,\n",
        "        epochs=epochs,\n",
        "        validation_data=val_generator,\n",
        "        validation_steps=VALIDATION_EXAMPLES // batch_size)\n"
      ],
      "execution_count": 83,
      "outputs": [
        {
          "output_type": "stream",
          "text": [
            "Epoch 1/10\n",
            "54/54 [==============================] - 46s 845ms/step - loss: 0.8328 - acc: 0.6591 - val_loss: 0.6689 - val_acc: 0.5826\n",
            "Epoch 2/10\n",
            "54/54 [==============================] - 6s 112ms/step - loss: 0.5604 - acc: 0.7190 - val_loss: 0.7039 - val_acc: 0.5312\n",
            "Epoch 3/10\n",
            "54/54 [==============================] - 6s 113ms/step - loss: 0.5373 - acc: 0.7512 - val_loss: 0.6593 - val_acc: 0.5647\n",
            "Epoch 4/10\n",
            "54/54 [==============================] - 6s 113ms/step - loss: 0.5337 - acc: 0.7483 - val_loss: 0.9229 - val_acc: 0.5246\n",
            "Epoch 5/10\n",
            "54/54 [==============================] - 6s 113ms/step - loss: 0.5083 - acc: 0.7541 - val_loss: 0.7849 - val_acc: 0.5871\n",
            "Epoch 6/10\n",
            "54/54 [==============================] - 6s 113ms/step - loss: 0.5297 - acc: 0.7610 - val_loss: 1.0969 - val_acc: 0.5446\n",
            "Epoch 7/10\n",
            "54/54 [==============================] - 6s 113ms/step - loss: 0.5049 - acc: 0.7604 - val_loss: 0.6710 - val_acc: 0.5714\n",
            "Epoch 8/10\n",
            "54/54 [==============================] - 6s 114ms/step - loss: 0.5039 - acc: 0.7648 - val_loss: 0.7315 - val_acc: 0.5335\n",
            "Epoch 9/10\n",
            "54/54 [==============================] - 6s 113ms/step - loss: 0.5102 - acc: 0.7561 - val_loss: 0.7072 - val_acc: 0.5045\n",
            "Epoch 10/10\n",
            "54/54 [==============================] - 6s 114ms/step - loss: 0.4859 - acc: 0.7743 - val_loss: 0.6732 - val_acc: 0.5938\n"
          ],
          "name": "stdout"
        },
        {
          "output_type": "execute_result",
          "data": {
            "text/plain": [
              "<keras.callbacks.History at 0x7ff4e5c5add0>"
            ]
          },
          "metadata": {
            "tags": []
          },
          "execution_count": 83
        }
      ]
    },
    {
      "metadata": {
        "id": "ULGKwYJE0wsN",
        "colab_type": "text"
      },
      "cell_type": "markdown",
      "source": [
        "# Prediction"
      ]
    },
    {
      "metadata": {
        "id": "g9tiND6PyRwX",
        "colab_type": "code",
        "colab": {
          "base_uri": "https://localhost:8080/",
          "height": 51
        },
        "outputId": "59d11773-eb32-45b9-de19-6f67ce8fdd25"
      },
      "cell_type": "code",
      "source": [
        "print (DS_TEST)\n",
        "print (len(os.listdir(DS_TEST)))"
      ],
      "execution_count": 157,
      "outputs": [
        {
          "output_type": "stream",
          "text": [
            "./dataset/test/\n",
            "299135\n"
          ],
          "name": "stdout"
        }
      ]
    },
    {
      "metadata": {
        "id": "jMhXOBuM4zRQ",
        "colab_type": "code",
        "colab": {}
      },
      "cell_type": "code",
      "source": [
        "def get_file_name(path):\n",
        "  return path.split('/')[3]\n",
        "\n",
        "def predict (path):\n",
        "  x = get_input_test(path)\n",
        "  preds = model.predict(x)\n",
        "  \n",
        "  if preds[0] >= 0.5:\n",
        "    return 1\n",
        "  else:\n",
        "    return 0\n",
        "  return 1"
      ],
      "execution_count": 0,
      "outputs": []
    },
    {
      "metadata": {
        "id": "U1e8XPn8MEwQ",
        "colab_type": "code",
        "colab": {
          "base_uri": "https://localhost:8080/",
          "height": 51
        },
        "outputId": "6807b436-b616-4b20-b919-afa0fd780bfa"
      },
      "cell_type": "code",
      "source": [
        "print (test_files[0])\n",
        "predict (DS_TEST+test_files[0])"
      ],
      "execution_count": 184,
      "outputs": [
        {
          "output_type": "stream",
          "text": [
            "test_024176.tif\n"
          ],
          "name": "stdout"
        },
        {
          "output_type": "execute_result",
          "data": {
            "text/plain": [
              "1"
            ]
          },
          "metadata": {
            "tags": []
          },
          "execution_count": 184
        }
      ]
    },
    {
      "metadata": {
        "id": "fYNjzoIrxPou",
        "colab_type": "code",
        "colab": {
          "base_uri": "https://localhost:8080/",
          "height": 527
        },
        "outputId": "bf4b530e-df2d-4a53-de16-a793d52557e7"
      },
      "cell_type": "code",
      "source": [
        "predictions = []\n",
        "path_files = []\n",
        "preds = 0\n",
        "\n",
        "for file in test_files:\n",
        "  predictions.append(predict (DS_TEST+file))\n",
        "  path_files.append(file)\n",
        "  preds += 1\n",
        "  if (preds % 15000 == 0):\n",
        "    print (\"Number of predictions = {}\".format(preds))\n",
        "    \n",
        "\n",
        "submission = pd.DataFrame({\n",
        "        \"predictions\": predictions,\n",
        "        \"files\": path_files\n",
        "})\n",
        "\n",
        "submission.to_csv('./out.tsv',index=False, header=False, sep='\\t')\n",
        "submission.head()"
      ],
      "execution_count": 186,
      "outputs": [
        {
          "output_type": "stream",
          "text": [
            "Number of predictions = 15000\n",
            "Number of predictions = 30000\n",
            "Number of predictions = 45000\n",
            "Number of predictions = 60000\n",
            "Number of predictions = 75000\n",
            "Number of predictions = 90000\n",
            "Number of predictions = 105000\n",
            "Number of predictions = 120000\n",
            "Number of predictions = 135000\n",
            "Number of predictions = 150000\n",
            "Number of predictions = 165000\n",
            "Number of predictions = 180000\n",
            "Number of predictions = 195000\n",
            "Number of predictions = 210000\n",
            "Number of predictions = 225000\n",
            "Number of predictions = 240000\n",
            "Number of predictions = 255000\n",
            "Number of predictions = 270000\n",
            "Number of predictions = 285000\n"
          ],
          "name": "stdout"
        },
        {
          "output_type": "execute_result",
          "data": {
            "text/html": [
              "<div>\n",
              "<style scoped>\n",
              "    .dataframe tbody tr th:only-of-type {\n",
              "        vertical-align: middle;\n",
              "    }\n",
              "\n",
              "    .dataframe tbody tr th {\n",
              "        vertical-align: top;\n",
              "    }\n",
              "\n",
              "    .dataframe thead th {\n",
              "        text-align: right;\n",
              "    }\n",
              "</style>\n",
              "<table border=\"1\" class=\"dataframe\">\n",
              "  <thead>\n",
              "    <tr style=\"text-align: right;\">\n",
              "      <th></th>\n",
              "      <th>files</th>\n",
              "      <th>predictions</th>\n",
              "    </tr>\n",
              "  </thead>\n",
              "  <tbody>\n",
              "    <tr>\n",
              "      <th>0</th>\n",
              "      <td>test_024176.tif</td>\n",
              "      <td>1</td>\n",
              "    </tr>\n",
              "    <tr>\n",
              "      <th>1</th>\n",
              "      <td>test_220215.tif</td>\n",
              "      <td>1</td>\n",
              "    </tr>\n",
              "    <tr>\n",
              "      <th>2</th>\n",
              "      <td>test_051789.tif</td>\n",
              "      <td>1</td>\n",
              "    </tr>\n",
              "    <tr>\n",
              "      <th>3</th>\n",
              "      <td>test_053055.tif</td>\n",
              "      <td>1</td>\n",
              "    </tr>\n",
              "    <tr>\n",
              "      <th>4</th>\n",
              "      <td>test_205838.tif</td>\n",
              "      <td>1</td>\n",
              "    </tr>\n",
              "  </tbody>\n",
              "</table>\n",
              "</div>"
            ],
            "text/plain": [
              "             files  predictions\n",
              "0  test_024176.tif            1\n",
              "1  test_220215.tif            1\n",
              "2  test_051789.tif            1\n",
              "3  test_053055.tif            1\n",
              "4  test_205838.tif            1"
            ]
          },
          "metadata": {
            "tags": []
          },
          "execution_count": 186
        }
      ]
    }
  ]
}